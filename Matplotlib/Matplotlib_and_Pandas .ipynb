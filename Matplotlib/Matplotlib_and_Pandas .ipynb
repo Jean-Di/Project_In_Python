{
 "cells": [
  {
   "cell_type": "markdown",
   "id": "46bb27c2-c5ce-4048-bdcf-74b88ab78b8d",
   "metadata": {},
   "source": [
    "# Matplotlib and Pandas : Simple Plotting with Matplotlib\n",
    "##### Ing. Jean Didier KOUAKOU /jeandidikouakou@gmail.com/+225 0555420217"
   ]
  },
  {
   "attachments": {},
   "cell_type": "markdown",
   "id": "663f24b8-f450-4557-bf03-85c145c4841f",
   "metadata": {},
   "source": [
    "#### Question 1, 2 and 3\n",
    "1. Import the necessary libraries\n",
    "2. Create a DataFrame from the dataset\n",
    "3. Display the first few rows of the DataFrame"
   ]
  },
  {
   "cell_type": "code",
   "execution_count": 58,
   "id": "5f479ac7-845b-4fab-a777-2510ca5e9748",
   "metadata": {},
   "outputs": [
    {
     "data": {
      "text/html": [
       "<div>\n",
       "<style scoped>\n",
       "    .dataframe tbody tr th:only-of-type {\n",
       "        vertical-align: middle;\n",
       "    }\n",
       "\n",
       "    .dataframe tbody tr th {\n",
       "        vertical-align: top;\n",
       "    }\n",
       "\n",
       "    .dataframe thead th {\n",
       "        text-align: right;\n",
       "    }\n",
       "</style>\n",
       "<table border=\"1\" class=\"dataframe\">\n",
       "  <thead>\n",
       "    <tr style=\"text-align: right;\">\n",
       "      <th></th>\n",
       "      <th>Fruit</th>\n",
       "      <th>Quantity</th>\n",
       "      <th>Price per Unit ($)</th>\n",
       "    </tr>\n",
       "  </thead>\n",
       "  <tbody>\n",
       "    <tr>\n",
       "      <th>0</th>\n",
       "      <td>Apple</td>\n",
       "      <td>30</td>\n",
       "      <td>0.50</td>\n",
       "    </tr>\n",
       "    <tr>\n",
       "      <th>1</th>\n",
       "      <td>Banana</td>\n",
       "      <td>20</td>\n",
       "      <td>0.35</td>\n",
       "    </tr>\n",
       "    <tr>\n",
       "      <th>2</th>\n",
       "      <td>Orange</td>\n",
       "      <td>25</td>\n",
       "      <td>0.75</td>\n",
       "    </tr>\n",
       "    <tr>\n",
       "      <th>3</th>\n",
       "      <td>Grape</td>\n",
       "      <td>15</td>\n",
       "      <td>1.00</td>\n",
       "    </tr>\n",
       "    <tr>\n",
       "      <th>4</th>\n",
       "      <td>Pineapple</td>\n",
       "      <td>10</td>\n",
       "      <td>1.50</td>\n",
       "    </tr>\n",
       "  </tbody>\n",
       "</table>\n",
       "</div>"
      ],
      "text/plain": [
       "       Fruit  Quantity  Price per Unit ($)\n",
       "0      Apple        30                0.50\n",
       "1     Banana        20                0.35\n",
       "2     Orange        25                0.75\n",
       "3      Grape        15                1.00\n",
       "4  Pineapple        10                1.50"
      ]
     },
     "execution_count": 58,
     "metadata": {},
     "output_type": "execute_result"
    }
   ],
   "source": [
    "import pandas as pd\n",
    "data = {\n",
    "    \"Fruit\" : [\"Apple\",\"Banana\",\"Orange\",\"Grape\",\"Pineapple\"],\n",
    "    \"Quantity\": [30,20,25,15,10],\n",
    "    \"Price per Unit ($)\": [0.5,0.35,0.75,1.0,1.5]\n",
    "}\n",
    "df=pd.DataFrame(data)\n",
    "df.to_csv('Fruits.csv',index=False)\n",
    "df"
   ]
  },
  {
   "attachments": {},
   "cell_type": "markdown",
   "id": "cb185bfa-521a-4e46-8a18-7896791e0fee",
   "metadata": {},
   "source": [
    "#### 4. Calculate the total price for each fruit and add it as a new column.\n"
   ]
  },
  {
   "cell_type": "code",
   "execution_count": 59,
   "id": "bf26f83e-c6b7-4038-81d6-85f8502a0a37",
   "metadata": {},
   "outputs": [
    {
     "data": {
      "text/html": [
       "<div>\n",
       "<style scoped>\n",
       "    .dataframe tbody tr th:only-of-type {\n",
       "        vertical-align: middle;\n",
       "    }\n",
       "\n",
       "    .dataframe tbody tr th {\n",
       "        vertical-align: top;\n",
       "    }\n",
       "\n",
       "    .dataframe thead th {\n",
       "        text-align: right;\n",
       "    }\n",
       "</style>\n",
       "<table border=\"1\" class=\"dataframe\">\n",
       "  <thead>\n",
       "    <tr style=\"text-align: right;\">\n",
       "      <th></th>\n",
       "      <th>Fruit</th>\n",
       "      <th>Quantity</th>\n",
       "      <th>Price per Unit ($)</th>\n",
       "      <th>Total Price ($)</th>\n",
       "    </tr>\n",
       "  </thead>\n",
       "  <tbody>\n",
       "    <tr>\n",
       "      <th>0</th>\n",
       "      <td>Apple</td>\n",
       "      <td>30</td>\n",
       "      <td>0.50</td>\n",
       "      <td>15.00</td>\n",
       "    </tr>\n",
       "    <tr>\n",
       "      <th>1</th>\n",
       "      <td>Banana</td>\n",
       "      <td>20</td>\n",
       "      <td>0.35</td>\n",
       "      <td>7.00</td>\n",
       "    </tr>\n",
       "    <tr>\n",
       "      <th>2</th>\n",
       "      <td>Orange</td>\n",
       "      <td>25</td>\n",
       "      <td>0.75</td>\n",
       "      <td>18.75</td>\n",
       "    </tr>\n",
       "    <tr>\n",
       "      <th>3</th>\n",
       "      <td>Grape</td>\n",
       "      <td>15</td>\n",
       "      <td>1.00</td>\n",
       "      <td>15.00</td>\n",
       "    </tr>\n",
       "    <tr>\n",
       "      <th>4</th>\n",
       "      <td>Pineapple</td>\n",
       "      <td>10</td>\n",
       "      <td>1.50</td>\n",
       "      <td>15.00</td>\n",
       "    </tr>\n",
       "  </tbody>\n",
       "</table>\n",
       "</div>"
      ],
      "text/plain": [
       "       Fruit  Quantity  Price per Unit ($)  Total Price ($)\n",
       "0      Apple        30                0.50            15.00\n",
       "1     Banana        20                0.35             7.00\n",
       "2     Orange        25                0.75            18.75\n",
       "3      Grape        15                1.00            15.00\n",
       "4  Pineapple        10                1.50            15.00"
      ]
     },
     "execution_count": 59,
     "metadata": {},
     "output_type": "execute_result"
    }
   ],
   "source": [
    "df[\"Total Price ($)\"]=df[\"Quantity\"]*df[\"Price per Unit ($)\"]\n",
    "df"
   ]
  },
  {
   "cell_type": "markdown",
   "id": "afc910f8-7940-4814-8810-6015e3e8bc33",
   "metadata": {},
   "source": [
    "#### 5. Filter the DataFrame to show only fruits with a total price greater than $10."
   ]
  },
  {
   "cell_type": "code",
   "execution_count": 60,
   "id": "56330bb3-0013-4b73-934e-5b6a35706f9b",
   "metadata": {},
   "outputs": [
    {
     "data": {
      "text/html": [
       "<div>\n",
       "<style scoped>\n",
       "    .dataframe tbody tr th:only-of-type {\n",
       "        vertical-align: middle;\n",
       "    }\n",
       "\n",
       "    .dataframe tbody tr th {\n",
       "        vertical-align: top;\n",
       "    }\n",
       "\n",
       "    .dataframe thead th {\n",
       "        text-align: right;\n",
       "    }\n",
       "</style>\n",
       "<table border=\"1\" class=\"dataframe\">\n",
       "  <thead>\n",
       "    <tr style=\"text-align: right;\">\n",
       "      <th></th>\n",
       "      <th>Fruit</th>\n",
       "      <th>Quantity</th>\n",
       "      <th>Price per Unit ($)</th>\n",
       "      <th>Total Price ($)</th>\n",
       "    </tr>\n",
       "  </thead>\n",
       "  <tbody>\n",
       "    <tr>\n",
       "      <th>0</th>\n",
       "      <td>Apple</td>\n",
       "      <td>30</td>\n",
       "      <td>0.50</td>\n",
       "      <td>15.00</td>\n",
       "    </tr>\n",
       "    <tr>\n",
       "      <th>2</th>\n",
       "      <td>Orange</td>\n",
       "      <td>25</td>\n",
       "      <td>0.75</td>\n",
       "      <td>18.75</td>\n",
       "    </tr>\n",
       "    <tr>\n",
       "      <th>3</th>\n",
       "      <td>Grape</td>\n",
       "      <td>15</td>\n",
       "      <td>1.00</td>\n",
       "      <td>15.00</td>\n",
       "    </tr>\n",
       "    <tr>\n",
       "      <th>4</th>\n",
       "      <td>Pineapple</td>\n",
       "      <td>10</td>\n",
       "      <td>1.50</td>\n",
       "      <td>15.00</td>\n",
       "    </tr>\n",
       "  </tbody>\n",
       "</table>\n",
       "</div>"
      ],
      "text/plain": [
       "       Fruit  Quantity  Price per Unit ($)  Total Price ($)\n",
       "0      Apple        30                0.50            15.00\n",
       "2     Orange        25                0.75            18.75\n",
       "3      Grape        15                1.00            15.00\n",
       "4  Pineapple        10                1.50            15.00"
      ]
     },
     "execution_count": 60,
     "metadata": {},
     "output_type": "execute_result"
    }
   ],
   "source": [
    "df[df[\"Total Price ($)\"]>10]"
   ]
  },
  {
   "attachments": {},
   "cell_type": "markdown",
   "id": "17ace324-6a2d-4710-94f9-ab503e7aafe6",
   "metadata": {},
   "source": [
    "#### Tasks :\n",
    "1. Import Matplotlib.\n",
    "2. Create a bar chart representing the total price of each fruit."
   ]
  },
  {
   "cell_type": "code",
   "execution_count": 61,
   "id": "1c953a55-d651-493b-b30b-f827c010556e",
   "metadata": {},
   "outputs": [
    {
     "data": {
      "text/plain": [
       "<BarContainer object of 5 artists>"
      ]
     },
     "execution_count": 61,
     "metadata": {},
     "output_type": "execute_result"
    },
    {
     "data": {
      "image/png": "[encoded data removed]",
      "text/plain": [
       "<Figure size 400x400 with 1 Axes>"
      ]
     },
     "metadata": {},
     "output_type": "display_data"
    }
   ],
   "source": [
    "import matplotlib.pyplot as plt\n",
    "\n",
    "plt.figure(figsize=(5,5))\n",
    "plt.bar(df['Fruit'],df['Total Price ($)'], color='grey')"
   ]
  },
  {
   "attachments": {},
   "cell_type": "markdown",
   "id": "85212f1b-bb39-47cf-a84c-8d7485ee0b66",
   "metadata": {},
   "source": [
    "3. Add titles and labels to the chart.\n",
    "4. Display the chart"
   ]
  },
  {
   "cell_type": "code",
   "execution_count": 63,
   "id": "0222f87c-cc43-40b9-b2e4-d87fbea1e57e",
   "metadata": {},
   "outputs": [
    {
     "data": {
      "image/png": "[encoded data removed]",
      "text/plain": [
       "<Figure size 400x400 with 1 Axes>"
      ]
     },
     "metadata": {},
     "output_type": "display_data"
    }
   ],
   "source": [
    "import matplotlib.pyplot as plt\n",
    "\n",
    "plt.figure(figsize=(5,5))\n",
    "plt.bar(df['Fruit'],df['Total Price ($)'], color='grey')\n",
    "\n",
    "plt.title(\"Price of each price\")\n",
    "plt.xlabel('Fruit')\n",
    "plt.ylabel('Total Price ($)')\n",
    "plt.show()"
   ]
  },
  {
   "cell_type": "code",
   "execution_count": 67,
   "id": "60bb7456-5701-4159-ba10-38da6b20089e",
   "metadata": {},
   "outputs": [
    {
     "data": {
      "text/html": [
       "<div>\n",
       "<style scoped>\n",
       "    .dataframe tbody tr th:only-of-type {\n",
       "        vertical-align: middle;\n",
       "    }\n",
       "\n",
       "    .dataframe tbody tr th {\n",
       "        vertical-align: top;\n",
       "    }\n",
       "\n",
       "    .dataframe thead th {\n",
       "        text-align: right;\n",
       "    }\n",
       "</style>\n",
       "<table border=\"1\" class=\"dataframe\">\n",
       "  <thead>\n",
       "    <tr style=\"text-align: right;\">\n",
       "      <th></th>\n",
       "      <th>Month</th>\n",
       "      <th>Sales</th>\n",
       "    </tr>\n",
       "  </thead>\n",
       "  <tbody>\n",
       "    <tr>\n",
       "      <th>0</th>\n",
       "      <td>Jan</td>\n",
       "      <td>1200</td>\n",
       "    </tr>\n",
       "    <tr>\n",
       "      <th>1</th>\n",
       "      <td>Fev</td>\n",
       "      <td>1500</td>\n",
       "    </tr>\n",
       "    <tr>\n",
       "      <th>2</th>\n",
       "      <td>Mar</td>\n",
       "      <td>1700</td>\n",
       "    </tr>\n",
       "    <tr>\n",
       "      <th>3</th>\n",
       "      <td>Apr</td>\n",
       "      <td>2000</td>\n",
       "    </tr>\n",
       "    <tr>\n",
       "      <th>4</th>\n",
       "      <td>May</td>\n",
       "      <td>2500</td>\n",
       "    </tr>\n",
       "    <tr>\n",
       "      <th>5</th>\n",
       "      <td>Jun</td>\n",
       "      <td>2700</td>\n",
       "    </tr>\n",
       "    <tr>\n",
       "      <th>6</th>\n",
       "      <td>July</td>\n",
       "      <td>2900</td>\n",
       "    </tr>\n",
       "    <tr>\n",
       "      <th>7</th>\n",
       "      <td>Aug</td>\n",
       "      <td>3200</td>\n",
       "    </tr>\n",
       "    <tr>\n",
       "      <th>8</th>\n",
       "      <td>Sep</td>\n",
       "      <td>3570</td>\n",
       "    </tr>\n",
       "    <tr>\n",
       "      <th>9</th>\n",
       "      <td>Oct</td>\n",
       "      <td>3750</td>\n",
       "    </tr>\n",
       "    <tr>\n",
       "      <th>10</th>\n",
       "      <td>Nov</td>\n",
       "      <td>3800</td>\n",
       "    </tr>\n",
       "    <tr>\n",
       "      <th>11</th>\n",
       "      <td>Dec</td>\n",
       "      <td>4000</td>\n",
       "    </tr>\n",
       "  </tbody>\n",
       "</table>\n",
       "</div>"
      ],
      "text/plain": [
       "   Month  Sales\n",
       "0    Jan   1200\n",
       "1    Fev   1500\n",
       "2    Mar   1700\n",
       "3    Apr   2000\n",
       "4    May   2500\n",
       "5    Jun   2700\n",
       "6   July   2900\n",
       "7    Aug   3200\n",
       "8    Sep   3570\n",
       "9    Oct   3750\n",
       "10   Nov   3800\n",
       "11   Dec   4000"
      ]
     },
     "execution_count": 67,
     "metadata": {},
     "output_type": "execute_result"
    }
   ],
   "source": [
    "data2 = {\n",
    "    \"Month\": [\"Jan\", \"Fev\",\"Mar\",\"Apr\",\"May\",\"Jun\",\"July\",\"Aug\", \"Sep\", \"Oct\", \"Nov\",\"Dec\"],\n",
    "    \"Sales\": [1200,1500,1700,2000,2500,2700,2900,3200,3570,3750,3800,4000]\n",
    "}\n",
    "\n",
    "df2=pd.DataFrame(data2)\n",
    "df2"
   ]
  },
  {
   "cell_type": "markdown",
   "id": "2ebdc28c-f9aa-4c70-a580-933bb4e780a7",
   "metadata": {},
   "source": [
    "#### Calculate the cumulative sales and add it as a new column."
   ]
  },
  {
   "cell_type": "code",
   "execution_count": 69,
   "id": "d5412a39-4619-443c-b721-276d692308f3",
   "metadata": {},
   "outputs": [
    {
     "data": {
      "text/html": [
       "<div>\n",
       "<style scoped>\n",
       "    .dataframe tbody tr th:only-of-type {\n",
       "        vertical-align: middle;\n",
       "    }\n",
       "\n",
       "    .dataframe tbody tr th {\n",
       "        vertical-align: top;\n",
       "    }\n",
       "\n",
       "    .dataframe thead th {\n",
       "        text-align: right;\n",
       "    }\n",
       "</style>\n",
       "<table border=\"1\" class=\"dataframe\">\n",
       "  <thead>\n",
       "    <tr style=\"text-align: right;\">\n",
       "      <th></th>\n",
       "      <th>Month</th>\n",
       "      <th>Sales</th>\n",
       "      <th>Cumulative Sales ($)</th>\n",
       "    </tr>\n",
       "  </thead>\n",
       "  <tbody>\n",
       "    <tr>\n",
       "      <th>0</th>\n",
       "      <td>Jan</td>\n",
       "      <td>1200</td>\n",
       "      <td>1200</td>\n",
       "    </tr>\n",
       "    <tr>\n",
       "      <th>1</th>\n",
       "      <td>Fev</td>\n",
       "      <td>1500</td>\n",
       "      <td>2700</td>\n",
       "    </tr>\n",
       "    <tr>\n",
       "      <th>2</th>\n",
       "      <td>Mar</td>\n",
       "      <td>1700</td>\n",
       "      <td>4400</td>\n",
       "    </tr>\n",
       "    <tr>\n",
       "      <th>3</th>\n",
       "      <td>Apr</td>\n",
       "      <td>2000</td>\n",
       "      <td>6400</td>\n",
       "    </tr>\n",
       "    <tr>\n",
       "      <th>4</th>\n",
       "      <td>May</td>\n",
       "      <td>2500</td>\n",
       "      <td>8900</td>\n",
       "    </tr>\n",
       "    <tr>\n",
       "      <th>5</th>\n",
       "      <td>Jun</td>\n",
       "      <td>2700</td>\n",
       "      <td>11600</td>\n",
       "    </tr>\n",
       "    <tr>\n",
       "      <th>6</th>\n",
       "      <td>July</td>\n",
       "      <td>2900</td>\n",
       "      <td>14500</td>\n",
       "    </tr>\n",
       "    <tr>\n",
       "      <th>7</th>\n",
       "      <td>Aug</td>\n",
       "      <td>3200</td>\n",
       "      <td>17700</td>\n",
       "    </tr>\n",
       "    <tr>\n",
       "      <th>8</th>\n",
       "      <td>Sep</td>\n",
       "      <td>3570</td>\n",
       "      <td>21270</td>\n",
       "    </tr>\n",
       "    <tr>\n",
       "      <th>9</th>\n",
       "      <td>Oct</td>\n",
       "      <td>3750</td>\n",
       "      <td>25020</td>\n",
       "    </tr>\n",
       "    <tr>\n",
       "      <th>10</th>\n",
       "      <td>Nov</td>\n",
       "      <td>3800</td>\n",
       "      <td>28820</td>\n",
       "    </tr>\n",
       "    <tr>\n",
       "      <th>11</th>\n",
       "      <td>Dec</td>\n",
       "      <td>4000</td>\n",
       "      <td>32820</td>\n",
       "    </tr>\n",
       "  </tbody>\n",
       "</table>\n",
       "</div>"
      ],
      "text/plain": [
       "   Month  Sales  Cumulative Sales ($)\n",
       "0    Jan   1200                  1200\n",
       "1    Fev   1500                  2700\n",
       "2    Mar   1700                  4400\n",
       "3    Apr   2000                  6400\n",
       "4    May   2500                  8900\n",
       "5    Jun   2700                 11600\n",
       "6   July   2900                 14500\n",
       "7    Aug   3200                 17700\n",
       "8    Sep   3570                 21270\n",
       "9    Oct   3750                 25020\n",
       "10   Nov   3800                 28820\n",
       "11   Dec   4000                 32820"
      ]
     },
     "execution_count": 69,
     "metadata": {},
     "output_type": "execute_result"
    }
   ],
   "source": [
    "df2[\"Cumulative Sales ($)\"]=df2[\"Sales\"].cumsum()\n",
    "df2"
   ]
  },
  {
   "cell_type": "markdown",
   "id": "5b49f939-88e4-4cb3-967b-38909a14ad94",
   "metadata": {},
   "source": [
    "#### Create a line plot for the cumulative sales over the months.\n",
    "Add titles and labels to the plot.\n",
    "Display the plot."
   ]
  },
  {
   "cell_type": "code",
   "execution_count": 74,
   "id": "2ff5401b-7a95-4b2b-b760-2a1fa2433e41",
   "metadata": {},
   "outputs": [
    {
     "data": {
      "image/png": "[encoded data removed]",
      "text/plain": [
       "<Figure size 400x400 with 1 Axes>"
      ]
     },
     "metadata": {},
     "output_type": "display_data"
    }
   ],
   "source": [
    "plt.figure(figsize=(5,5))\n",
    "\n",
    "plt.plot(df2['Month'],df2['Cumulative Sales ($)'])\n",
    "plt.title('Evolution of cumulative sales over months')\n",
    "plt.xlabel('Months')\n",
    "plt.ylabel('Cumulative Sales($)')\n",
    "plt.xticks(rotation=45)\n",
    "plt.grid()\n",
    "plt.show()"
   ]
  },
  {
   "cell_type": "markdown",
   "id": "b4b29829-7343-422e-b1f1-902b23a75de4",
   "metadata": {},
   "source": [
    "## Problem on Matplotlib"
   ]
  },
  {
   "cell_type": "markdown",
   "id": "8d0d7bc5-3d16-4bdb-b602-90d180d2599e",
   "metadata": {},
   "source": [
    "#### Import the data into a Pandas DataFrame."
   ]
  },
  {
   "cell_type": "code",
   "execution_count": 79,
   "id": "81f2c9f8-b7b9-4dd8-bfa3-64b665e5957f",
   "metadata": {},
   "outputs": [
    {
     "data": {
      "text/html": [
       "<div>\n",
       "<style scoped>\n",
       "    .dataframe tbody tr th:only-of-type {\n",
       "        vertical-align: middle;\n",
       "    }\n",
       "\n",
       "    .dataframe tbody tr th {\n",
       "        vertical-align: top;\n",
       "    }\n",
       "\n",
       "    .dataframe thead th {\n",
       "        text-align: right;\n",
       "    }\n",
       "</style>\n",
       "<table border=\"1\" class=\"dataframe\">\n",
       "  <thead>\n",
       "    <tr style=\"text-align: right;\">\n",
       "      <th></th>\n",
       "      <th>Country</th>\n",
       "      <th>Year</th>\n",
       "      <th>Energy Consumption (TWh)</th>\n",
       "      <th>CO2 Emissions (Million tons)</th>\n",
       "      <th>Population (Millions)</th>\n",
       "    </tr>\n",
       "  </thead>\n",
       "  <tbody>\n",
       "    <tr>\n",
       "      <th>0</th>\n",
       "      <td>CountryA</td>\n",
       "      <td>2020</td>\n",
       "      <td>500</td>\n",
       "      <td>300</td>\n",
       "      <td>50</td>\n",
       "    </tr>\n",
       "    <tr>\n",
       "      <th>1</th>\n",
       "      <td>CountryA</td>\n",
       "      <td>2021</td>\n",
       "      <td>550</td>\n",
       "      <td>320</td>\n",
       "      <td>51</td>\n",
       "    </tr>\n",
       "    <tr>\n",
       "      <th>2</th>\n",
       "      <td>CountryA</td>\n",
       "      <td>2022</td>\n",
       "      <td>600</td>\n",
       "      <td>340</td>\n",
       "      <td>52</td>\n",
       "    </tr>\n",
       "  </tbody>\n",
       "</table>\n",
       "</div>"
      ],
      "text/plain": [
       "    Country  Year  Energy Consumption (TWh)  CO2 Emissions (Million tons)  \\\n",
       "0  CountryA  2020                       500                           300   \n",
       "1  CountryA  2021                       550                           320   \n",
       "2  CountryA  2022                       600                           340   \n",
       "\n",
       "   Population (Millions)  \n",
       "0                     50  \n",
       "1                     51  \n",
       "2                     52  "
      ]
     },
     "execution_count": 79,
     "metadata": {},
     "output_type": "execute_result"
    }
   ],
   "source": [
    "import pandas as pd\n",
    "import matplotlib.pyplot as plt\n",
    "\n",
    "# Data\n",
    "data = {\n",
    "    'Country': ['CountryA'] * 3 + ['CountryB'] * 3 + ['CountryC'] * 3 + ['CountryD'] * 3 + ['CountryE'] * 3,\n",
    "    'Year': [2020, 2021, 2022] * 5,\n",
    "    'Energy Consumption (TWh)': [500, 550, 600, 700, 750, 800, 300, 350, 400, 400, 450, 500, 600, 650, 700],\n",
    "    'CO2 Emissions (Million tons)': [300, 320, 340, 400, 420, 450, 150, 160, 170, 250, 260, 270, 350, 370, 390],\n",
    "    'Population (Millions)': [50, 51, 52, 70, 71, 72, 30, 31, 32, 40, 41, 42, 60, 61, 62]\n",
    "}\n",
    "\n",
    "df = pd.DataFrame(data)\n",
    "df.head(3)"
   ]
  },
  {
   "cell_type": "markdown",
   "id": "c71adf34-9f8b-4491-9140-4d103934e07b",
   "metadata": {},
   "source": [
    "#### 2.Calculate the CO2 emissions per capita (tons per person) for each country and year."
   ]
  },
  {
   "cell_type": "code",
   "execution_count": 84,
   "id": "3c6b8ccd-b8ec-449f-8bc5-f1908a9aaf05",
   "metadata": {},
   "outputs": [
    {
     "data": {
      "text/html": [
       "<div>\n",
       "<style scoped>\n",
       "    .dataframe tbody tr th:only-of-type {\n",
       "        vertical-align: middle;\n",
       "    }\n",
       "\n",
       "    .dataframe tbody tr th {\n",
       "        vertical-align: top;\n",
       "    }\n",
       "\n",
       "    .dataframe thead th {\n",
       "        text-align: right;\n",
       "    }\n",
       "</style>\n",
       "<table border=\"1\" class=\"dataframe\">\n",
       "  <thead>\n",
       "    <tr style=\"text-align: right;\">\n",
       "      <th></th>\n",
       "      <th>Country</th>\n",
       "      <th>Year</th>\n",
       "      <th>Energy Consumption (TWh)</th>\n",
       "      <th>CO2 Emissions (Million tons)</th>\n",
       "      <th>Population (Millions)</th>\n",
       "      <th>CO2 emissions per capita (tons per person)</th>\n",
       "    </tr>\n",
       "  </thead>\n",
       "  <tbody>\n",
       "    <tr>\n",
       "      <th>0</th>\n",
       "      <td>CountryA</td>\n",
       "      <td>2020</td>\n",
       "      <td>500</td>\n",
       "      <td>300</td>\n",
       "      <td>50</td>\n",
       "      <td>6.000000</td>\n",
       "    </tr>\n",
       "    <tr>\n",
       "      <th>1</th>\n",
       "      <td>CountryA</td>\n",
       "      <td>2021</td>\n",
       "      <td>550</td>\n",
       "      <td>320</td>\n",
       "      <td>51</td>\n",
       "      <td>6.274510</td>\n",
       "    </tr>\n",
       "    <tr>\n",
       "      <th>2</th>\n",
       "      <td>CountryA</td>\n",
       "      <td>2022</td>\n",
       "      <td>600</td>\n",
       "      <td>340</td>\n",
       "      <td>52</td>\n",
       "      <td>6.538462</td>\n",
       "    </tr>\n",
       "    <tr>\n",
       "      <th>3</th>\n",
       "      <td>CountryB</td>\n",
       "      <td>2020</td>\n",
       "      <td>700</td>\n",
       "      <td>400</td>\n",
       "      <td>70</td>\n",
       "      <td>5.714286</td>\n",
       "    </tr>\n",
       "    <tr>\n",
       "      <th>4</th>\n",
       "      <td>CountryB</td>\n",
       "      <td>2021</td>\n",
       "      <td>750</td>\n",
       "      <td>420</td>\n",
       "      <td>71</td>\n",
       "      <td>5.915493</td>\n",
       "    </tr>\n",
       "    <tr>\n",
       "      <th>5</th>\n",
       "      <td>CountryB</td>\n",
       "      <td>2022</td>\n",
       "      <td>800</td>\n",
       "      <td>450</td>\n",
       "      <td>72</td>\n",
       "      <td>6.250000</td>\n",
       "    </tr>\n",
       "    <tr>\n",
       "      <th>6</th>\n",
       "      <td>CountryC</td>\n",
       "      <td>2020</td>\n",
       "      <td>300</td>\n",
       "      <td>150</td>\n",
       "      <td>30</td>\n",
       "      <td>5.000000</td>\n",
       "    </tr>\n",
       "    <tr>\n",
       "      <th>7</th>\n",
       "      <td>CountryC</td>\n",
       "      <td>2021</td>\n",
       "      <td>350</td>\n",
       "      <td>160</td>\n",
       "      <td>31</td>\n",
       "      <td>5.161290</td>\n",
       "    </tr>\n",
       "    <tr>\n",
       "      <th>8</th>\n",
       "      <td>CountryC</td>\n",
       "      <td>2022</td>\n",
       "      <td>400</td>\n",
       "      <td>170</td>\n",
       "      <td>32</td>\n",
       "      <td>5.312500</td>\n",
       "    </tr>\n",
       "    <tr>\n",
       "      <th>9</th>\n",
       "      <td>CountryD</td>\n",
       "      <td>2020</td>\n",
       "      <td>400</td>\n",
       "      <td>250</td>\n",
       "      <td>40</td>\n",
       "      <td>6.250000</td>\n",
       "    </tr>\n",
       "    <tr>\n",
       "      <th>10</th>\n",
       "      <td>CountryD</td>\n",
       "      <td>2021</td>\n",
       "      <td>450</td>\n",
       "      <td>260</td>\n",
       "      <td>41</td>\n",
       "      <td>6.341463</td>\n",
       "    </tr>\n",
       "    <tr>\n",
       "      <th>11</th>\n",
       "      <td>CountryD</td>\n",
       "      <td>2022</td>\n",
       "      <td>500</td>\n",
       "      <td>270</td>\n",
       "      <td>42</td>\n",
       "      <td>6.428571</td>\n",
       "    </tr>\n",
       "    <tr>\n",
       "      <th>12</th>\n",
       "      <td>CountryE</td>\n",
       "      <td>2020</td>\n",
       "      <td>600</td>\n",
       "      <td>350</td>\n",
       "      <td>60</td>\n",
       "      <td>5.833333</td>\n",
       "    </tr>\n",
       "    <tr>\n",
       "      <th>13</th>\n",
       "      <td>CountryE</td>\n",
       "      <td>2021</td>\n",
       "      <td>650</td>\n",
       "      <td>370</td>\n",
       "      <td>61</td>\n",
       "      <td>6.065574</td>\n",
       "    </tr>\n",
       "    <tr>\n",
       "      <th>14</th>\n",
       "      <td>CountryE</td>\n",
       "      <td>2022</td>\n",
       "      <td>700</td>\n",
       "      <td>390</td>\n",
       "      <td>62</td>\n",
       "      <td>6.290323</td>\n",
       "    </tr>\n",
       "  </tbody>\n",
       "</table>\n",
       "</div>"
      ],
      "text/plain": [
       "     Country  Year  Energy Consumption (TWh)  CO2 Emissions (Million tons)  \\\n",
       "0   CountryA  2020                       500                           300   \n",
       "1   CountryA  2021                       550                           320   \n",
       "2   CountryA  2022                       600                           340   \n",
       "3   CountryB  2020                       700                           400   \n",
       "4   CountryB  2021                       750                           420   \n",
       "5   CountryB  2022                       800                           450   \n",
       "6   CountryC  2020                       300                           150   \n",
       "7   CountryC  2021                       350                           160   \n",
       "8   CountryC  2022                       400                           170   \n",
       "9   CountryD  2020                       400                           250   \n",
       "10  CountryD  2021                       450                           260   \n",
       "11  CountryD  2022                       500                           270   \n",
       "12  CountryE  2020                       600                           350   \n",
       "13  CountryE  2021                       650                           370   \n",
       "14  CountryE  2022                       700                           390   \n",
       "\n",
       "    Population (Millions)  CO2 emissions per capita (tons per person)  \n",
       "0                      50                                    6.000000  \n",
       "1                      51                                    6.274510  \n",
       "2                      52                                    6.538462  \n",
       "3                      70                                    5.714286  \n",
       "4                      71                                    5.915493  \n",
       "5                      72                                    6.250000  \n",
       "6                      30                                    5.000000  \n",
       "7                      31                                    5.161290  \n",
       "8                      32                                    5.312500  \n",
       "9                      40                                    6.250000  \n",
       "10                     41                                    6.341463  \n",
       "11                     42                                    6.428571  \n",
       "12                     60                                    5.833333  \n",
       "13                     61                                    6.065574  \n",
       "14                     62                                    6.290323  "
      ]
     },
     "execution_count": 84,
     "metadata": {},
     "output_type": "execute_result"
    }
   ],
   "source": [
    "df['CO2 emissions per capita (tons per person)']=df['CO2 Emissions (Million tons)']/df['Population (Millions)']\n",
    "df"
   ]
  },
  {
   "cell_type": "markdown",
   "id": "efe8fbb4-969d-4db3-b3ce-56b4fe0116fd",
   "metadata": {},
   "source": [
    "#### 3. Create a line plot showing the trend of CO2 emissions for each country over the three year."
   ]
  },
  {
   "cell_type": "code",
   "execution_count": 100,
   "id": "8f8028c5-194c-4553-a00d-ddbb99acb8b3",
   "metadata": {},
   "outputs": [
    {
     "data": {
      "image/png": "[encoded data removed]",
      "text/plain": [
       "<Figure size 800x640 with 1 Axes>"
      ]
     },
     "metadata": {},
     "output_type": "display_data"
    }
   ],
   "source": [
    "plt.figure(figsize=(10,8))\n",
    "\n",
    "for country in df['Country'].unique():\n",
    "    plt.plot(df[df['Country'] == country]['Year'], df[df['Country'] == country]['CO2 Emissions (Million tons)'], marker='o', label=country)\n",
    "\n",
    "plt.title('CO2 Emissions by Country (2020-2022)')\n",
    "plt.xlabel('Year')\n",
    "plt.ylabel('CO2 Emissions (Million tons)')\n",
    "plt.legend()\n",
    "plt.grid()\n",
    "plt.show()"
   ]
  },
  {
   "cell_type": "markdown",
   "id": "a86665e1-0dd0-4b1e-8e13-300b337b20ab",
   "metadata": {},
   "source": [
    "#### 4. Identify the country with the highest CO2 emissions per capita in 2022 and display the country and the value."
   ]
  },
  {
   "cell_type": "code",
   "execution_count": 98,
   "id": "9161eb86-3a8e-4e46-8c97-0aa654270c40",
   "metadata": {},
   "outputs": [
    {
     "data": {
      "text/plain": [
       "Country                                       CountryA\n",
       "Year                                              2022\n",
       "CO2 emissions per capita (tons per person)    6.538462\n",
       "Name: 2, dtype: object"
      ]
     },
     "execution_count": 98,
     "metadata": {},
     "output_type": "execute_result"
    }
   ],
   "source": [
    "highest_co_emi=df[df['Year']==2022]\n",
    "highest_co_emi=highest_co_emi[['Country', 'Year', 'CO2 emissions per capita (tons per person)']]\n",
    "highest_co_emi=highest_co_emi.loc[highest_co_emi['CO2 emissions per capita (tons per person)'].idxmax()]\n",
    "highest_co_emi"
   ]
  },
  {
   "cell_type": "markdown",
   "id": "93f5edd5-66d1-48af-9b79-d4b052815a0c",
   "metadata": {},
   "source": [
    "#### 5. Calculate the total energy consumption for each country over the three years and display the results."
   ]
  },
  {
   "cell_type": "code",
   "execution_count": 106,
   "id": "6ee199db-b269-4098-9f4f-6fce5c1241ab",
   "metadata": {},
   "outputs": [
    {
     "data": {
      "text/html": [
       "<div>\n",
       "<style scoped>\n",
       "    .dataframe tbody tr th:only-of-type {\n",
       "        vertical-align: middle;\n",
       "    }\n",
       "\n",
       "    .dataframe tbody tr th {\n",
       "        vertical-align: top;\n",
       "    }\n",
       "\n",
       "    .dataframe thead th {\n",
       "        text-align: right;\n",
       "    }\n",
       "</style>\n",
       "<table border=\"1\" class=\"dataframe\">\n",
       "  <thead>\n",
       "    <tr style=\"text-align: right;\">\n",
       "      <th></th>\n",
       "      <th>Country</th>\n",
       "      <th>Energy Consumption (TWh)</th>\n",
       "    </tr>\n",
       "  </thead>\n",
       "  <tbody>\n",
       "    <tr>\n",
       "      <th>0</th>\n",
       "      <td>CountryA</td>\n",
       "      <td>1650</td>\n",
       "    </tr>\n",
       "    <tr>\n",
       "      <th>1</th>\n",
       "      <td>CountryB</td>\n",
       "      <td>2250</td>\n",
       "    </tr>\n",
       "    <tr>\n",
       "      <th>2</th>\n",
       "      <td>CountryC</td>\n",
       "      <td>1050</td>\n",
       "    </tr>\n",
       "    <tr>\n",
       "      <th>3</th>\n",
       "      <td>CountryD</td>\n",
       "      <td>1350</td>\n",
       "    </tr>\n",
       "    <tr>\n",
       "      <th>4</th>\n",
       "      <td>CountryE</td>\n",
       "      <td>1950</td>\n",
       "    </tr>\n",
       "  </tbody>\n",
       "</table>\n",
       "</div>"
      ],
      "text/plain": [
       "    Country  Energy Consumption (TWh)\n",
       "0  CountryA                      1650\n",
       "1  CountryB                      2250\n",
       "2  CountryC                      1050\n",
       "3  CountryD                      1350\n",
       "4  CountryE                      1950"
      ]
     },
     "execution_count": 106,
     "metadata": {},
     "output_type": "execute_result"
    }
   ],
   "source": [
    "total_energy = df.groupby('Country')['Energy Consumption (TWh)'].sum().reset_index()\n",
    "total_energy"
   ]
  },
  {
   "cell_type": "markdown",
   "id": "0e1fae8b-a626-4e6c-8755-08717e91894d",
   "metadata": {},
   "source": [
    "#### 6. Create a bar chart comparing the total CO2 emissions for each country in 2022"
   ]
  },
  {
   "cell_type": "code",
   "execution_count": 112,
   "id": "99c87b4e-13d8-40aa-b2ef-285930499b84",
   "metadata": {},
   "outputs": [
    {
     "data": {
      "image/png": "[encoded data removed]",
      "text/plain": [
       "<Figure size 800x640 with 1 Axes>"
      ]
     },
     "metadata": {},
     "output_type": "display_data"
    }
   ],
   "source": [
    "plt.figure(figsize=(10,8))\n",
    "total_emissions_2022 = df[df['Year'] == 2022].groupby('Country')['CO2 Emissions (Million tons)'].sum()\n",
    "total_emissions_2022.plot(kind='bar', title='Total CO2 Emissions in 2022')\n",
    "plt.ylabel('CO2 Emissions (Million tons)')\n",
    "plt.show()"
   ]
  },
  {
   "cell_type": "markdown",
   "id": "17d6b772-5148-42bc-abbb-e44acfe7db75",
   "metadata": {},
   "source": [
    "#### 7. Determine the average CO2 emissions per capita for each country across the three years."
   ]
  },
  {
   "cell_type": "code",
   "execution_count": 115,
   "id": "f4186170-bd86-49d6-b7ff-8d1c7aaac957",
   "metadata": {},
   "outputs": [
    {
     "data": {
      "text/html": [
       "<div>\n",
       "<style scoped>\n",
       "    .dataframe tbody tr th:only-of-type {\n",
       "        vertical-align: middle;\n",
       "    }\n",
       "\n",
       "    .dataframe tbody tr th {\n",
       "        vertical-align: top;\n",
       "    }\n",
       "\n",
       "    .dataframe thead th {\n",
       "        text-align: right;\n",
       "    }\n",
       "</style>\n",
       "<table border=\"1\" class=\"dataframe\">\n",
       "  <thead>\n",
       "    <tr style=\"text-align: right;\">\n",
       "      <th></th>\n",
       "      <th>Country</th>\n",
       "      <th>CO2 emissions per capita (tons per person)</th>\n",
       "    </tr>\n",
       "  </thead>\n",
       "  <tbody>\n",
       "    <tr>\n",
       "      <th>0</th>\n",
       "      <td>CountryA</td>\n",
       "      <td>6.270990</td>\n",
       "    </tr>\n",
       "    <tr>\n",
       "      <th>1</th>\n",
       "      <td>CountryB</td>\n",
       "      <td>5.959926</td>\n",
       "    </tr>\n",
       "    <tr>\n",
       "      <th>2</th>\n",
       "      <td>CountryC</td>\n",
       "      <td>5.157930</td>\n",
       "    </tr>\n",
       "    <tr>\n",
       "      <th>3</th>\n",
       "      <td>CountryD</td>\n",
       "      <td>6.340012</td>\n",
       "    </tr>\n",
       "    <tr>\n",
       "      <th>4</th>\n",
       "      <td>CountryE</td>\n",
       "      <td>6.063077</td>\n",
       "    </tr>\n",
       "  </tbody>\n",
       "</table>\n",
       "</div>"
      ],
      "text/plain": [
       "    Country  CO2 emissions per capita (tons per person)\n",
       "0  CountryA                                    6.270990\n",
       "1  CountryB                                    5.959926\n",
       "2  CountryC                                    5.157930\n",
       "3  CountryD                                    6.340012\n",
       "4  CountryE                                    6.063077"
      ]
     },
     "execution_count": 115,
     "metadata": {},
     "output_type": "execute_result"
    }
   ],
   "source": [
    "average_per_capita = df.groupby('Country')['CO2 emissions per capita (tons per person)'].mean().reset_index()\n",
    "average_per_capita"
   ]
  }
 ],
 "metadata": {
  "kernelspec": {
   "display_name": "Python 3 (ipykernel)",
   "language": "python",
   "name": "python3"
  },
  "language_info": {
   "codemirror_mode": {
    "name": "ipython",
    "version": 3
   },
   "file_extension": ".py",
   "mimetype": "text/x-python",
   "name": "python",
   "nbconvert_exporter": "python",
   "pygments_lexer": "ipython3",
   "version": "3.10.7"
  }
 },
 "nbformat": 4,
 "nbformat_minor": 5
}
