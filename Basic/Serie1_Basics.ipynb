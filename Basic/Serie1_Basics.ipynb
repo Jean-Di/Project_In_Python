{
 "cells": [
  {
   "cell_type": "markdown",
   "id": "68621b10-8a38-41e6-b6d6-7dfab30da098",
   "metadata": {},
   "source": [
    "# Serie 1 : General basic in python\n",
    "##### Ing. Jean Didier KOUAKOU /jeandidikouakou@gmail.com/+225 0555420217"
   ]
  },
  {
   "cell_type": "markdown",
   "id": "ee79f39a-1f2e-4ae4-a2d5-3087f03aa3b8",
   "metadata": {},
   "source": [
    "## Exercise 1: Print the sum of the current number and the previous number"
   ]
  },
  {
   "cell_type": "code",
   "execution_count": 159,
   "id": "734eadf8-0a3b-4b51-b2aa-9161f68aa5d1",
   "metadata": {},
   "outputs": [
    {
     "name": "stdin",
     "output_type": "stream",
     "text": [
      "Enter the previous number :  4\n",
      "Enter the current number :  2\n"
     ]
    },
    {
     "name": "stdout",
     "output_type": "stream",
     "text": [
      "The result between the previous and the current number is : 6\n"
     ]
    },
    {
     "name": "stdin",
     "output_type": "stream",
     "text": [
      "Enter the current number :  6\n"
     ]
    },
    {
     "name": "stdout",
     "output_type": "stream",
     "text": [
      "The result between the previous and the current number is : 12\n"
     ]
    }
   ],
   "source": [
    "previous_num = int(input('Enter the previous number : '))\n",
    "current_num = int(input('Enter the current number : '))\n",
    "result = previous_num + current_num\n",
    "print('The result between the previous and the current number is :', result)\n",
    "while True :\n",
    "    current_num = int(input('Enter the current number : '))\n",
    "    result = result + current_num\n",
    "    print('The result between the previous and the current number is :', result)\n",
    "    break"
   ]
  },
  {
   "cell_type": "markdown",
   "id": "e97d733b-8437-4aa3-8a4b-8a007043eee3",
   "metadata": {},
   "source": [
    "## Exercise 2: Print characters from a string"
   ]
  },
  {
   "cell_type": "code",
   "execution_count": 18,
   "id": "83b0a010-7d02-4ae3-b3d2-db490fa0c45a",
   "metadata": {},
   "outputs": [
    {
     "name": "stdin",
     "output_type": "stream",
     "text": [
      "Enter any string :  JeanDi\n"
     ]
    },
    {
     "name": "stdout",
     "output_type": "stream",
     "text": [
      "J\n",
      "e\n",
      "a\n",
      "n\n",
      "D\n",
      "i\n"
     ]
    }
   ],
   "source": [
    "string = str(input('Enter any string : '))\n",
    "for i in string :\n",
    "    print(i)"
   ]
  },
  {
   "cell_type": "markdown",
   "id": "ba16fce3-799a-42d2-b829-09e40ad65739",
   "metadata": {},
   "source": [
    "## Exercise 3: Remove first 5 characters from a string "
   ]
  },
  {
   "cell_type": "code",
   "execution_count": 21,
   "id": "1364856f-21be-44f1-bb94-504a59367c5e",
   "metadata": {},
   "outputs": [
    {
     "name": "stdin",
     "output_type": "stream",
     "text": [
      "Enter any string :  JeanDi KOUAKOU\n"
     ]
    },
    {
     "name": "stdout",
     "output_type": "stream",
     "text": [
      "i KOUAKOU\n"
     ]
    }
   ],
   "source": [
    "string = str(input('Enter any string : '))\n",
    "string = string[5:]\n",
    "print(string)"
   ]
  },
  {
   "cell_type": "markdown",
   "id": "1d413221-ece5-4b63-b228-1b147b2d4c2c",
   "metadata": {},
   "source": [
    "## Exercise 4: Remove last 5 characters from a string"
   ]
  },
  {
   "cell_type": "code",
   "execution_count": 28,
   "id": "92a06784-3ed1-497b-bc35-08e876458af1",
   "metadata": {},
   "outputs": [
    {
     "name": "stdin",
     "output_type": "stream",
     "text": [
      "Enter any string :  JeanDi KOUAKOU\n"
     ]
    },
    {
     "name": "stdout",
     "output_type": "stream",
     "text": [
      "JeanDi KO\n"
     ]
    }
   ],
   "source": [
    "string = str(input('Enter any string : '))\n",
    "string = string[:-5]\n",
    "print(string)"
   ]
  },
  {
   "cell_type": "markdown",
   "id": "8f7ebbcc-d68a-4757-9f95-cc275161f548",
   "metadata": {},
   "source": [
    " ## Exercise 5: Remove first or last n characters from a string"
   ]
  },
  {
   "cell_type": "code",
   "execution_count": 34,
   "id": "31bd7dc8-794c-47b2-9363-8254b43e3c34",
   "metadata": {},
   "outputs": [
    {
     "name": "stdin",
     "output_type": "stream",
     "text": [
      "Please enter any string Ing. Jean Didier KOUAKOU\n"
     ]
    },
    {
     "name": "stdout",
     "output_type": "stream",
     "text": [
      "Do you want to remove from the begining or the last ? \n"
     ]
    },
    {
     "name": "stdin",
     "output_type": "stream",
     "text": [
      "Type YES for the begining and NO for the last NO\n",
      "You want to remove from the begining. How many string ? 7\n"
     ]
    },
    {
     "name": "stdout",
     "output_type": "stream",
     "text": [
      "Your string is now : Ing. Jean Didier \n"
     ]
    }
   ],
   "source": [
    "string = str(input('Please enter any string'))\n",
    "print('Do you want to remove from the begining or the last ? ')\n",
    "choice = str(input('Type YES for the begining and NO for the last'))\n",
    "\n",
    "if choice == 'YES':\n",
    "    nb_str=int(input('You want to remove from the begining. How many string ?'))\n",
    "    string=string[nb_str:]\n",
    "    print('Your string is now :', string)\n",
    "\n",
    "elif choice == 'NO':\n",
    "    nb_str=int(input('You want to remove from the begining. How many string ?'))\n",
    "    string=string[:-nb_str]\n",
    "    print('Your string is now :', string)\n",
    "\n",
    "else :\n",
    "    print('No valid choice! Try again.')"
   ]
  },
  {
   "cell_type": "markdown",
   "id": "f9af58eb-fd3d-499e-b71e-b60ea1d7150e",
   "metadata": {},
   "source": [
    "## Exercise 6: Write a function to solve 2nd order equation"
   ]
  },
  {
   "cell_type": "code",
   "execution_count": 59,
   "id": "ce55eab3-7461-4db8-b45f-e2a144944919",
   "metadata": {},
   "outputs": [
    {
     "name": "stdout",
     "output_type": "stream",
     "text": [
      "You have two real distinct solutions which are :  -4.0 and -1.0\n"
     ]
    }
   ],
   "source": [
    "import math\n",
    "def solve(a,b,c) :\n",
    "    delta = b**2 - 4*a*c\n",
    "    if delta>0 :\n",
    "        x1=(-b-math.sqrt(delta))/(2*a)\n",
    "        x2=(-b+math.sqrt(delta))/(2*a)\n",
    "        print('You have two real distinct solutions which are : ', x1, 'and', x2)\n",
    "    elif delta==0 :\n",
    "        x=-b/(2*a)\n",
    "        print('You have one double real solution which is : ', x)\n",
    "    else :\n",
    "        print('No solution in R')\n",
    "\n",
    "#Let us try \n",
    "solve(1,5,4)"
   ]
  },
  {
   "cell_type": "markdown",
   "id": "57728f0a-7f08-4ca1-bf95-bd38bc9a3d0d",
   "metadata": {},
   "source": [
    "## Exercise 7: Ask a number and displays its multiplication table (from 1 to 10)"
   ]
  },
  {
   "cell_type": "code",
   "execution_count": 111,
   "id": "c9cd5b85-72e7-4d40-a6e2-7293121c0850",
   "metadata": {},
   "outputs": [
    {
     "name": "stdin",
     "output_type": "stream",
     "text": [
      "Please, enter a number :  5\n"
     ]
    },
    {
     "name": "stdout",
     "output_type": "stream",
     "text": [
      "5 * 0 = 0\n",
      "5 * 1 = 5\n",
      "5 * 2 = 10\n",
      "5 * 3 = 15\n",
      "5 * 4 = 20\n",
      "5 * 5 = 25\n",
      "5 * 6 = 30\n",
      "5 * 7 = 35\n",
      "5 * 8 = 40\n",
      "5 * 9 = 45\n"
     ]
    }
   ],
   "source": [
    "nmber = int(input('Please, enter a number : '))\n",
    "for i in range (10):\n",
    "    print(nmber,'*',i,'=',i*nmber)"
   ]
  },
  {
   "cell_type": "markdown",
   "id": "fa8c56b9-7bfb-4f20-ac17-0b57a7c0d5b9",
   "metadata": {},
   "source": [
    "## Exercise 8: Ask the user to enter a string and display it in reverse"
   ]
  },
  {
   "cell_type": "code",
   "execution_count": 129,
   "id": "cd191643-90cf-4eb4-a88d-4de94dd18e89",
   "metadata": {},
   "outputs": [
    {
     "name": "stdin",
     "output_type": "stream",
     "text": [
      "Please, type any string :  ENERGY SYSTEMS ANALYSIS\n"
     ]
    },
    {
     "name": "stdout",
     "output_type": "stream",
     "text": [
      "SISYLANA SMETSYS YGRENE\n"
     ]
    }
   ],
   "source": [
    "string= str(input('Please, type any string : '))\n",
    "reverse=string[::-1]\n",
    "print(reverse)"
   ]
  },
  {
   "cell_type": "markdown",
   "id": "d7d99cb1-304e-47aa-b8aa-da9b36afe11a",
   "metadata": {},
   "source": [
    "## Exercise 9: Ask for a password of 4 digits. Try until the password is not all positive value and 4 digit. Show the final password"
   ]
  },
  {
   "cell_type": "code",
   "execution_count": 158,
   "id": "ab243fdd-35f2-42f6-9d3c-d60f33657ebf",
   "metadata": {},
   "outputs": [
    {
     "name": "stdin",
     "output_type": "stream",
     "text": [
      "Please, type any digit of your password: -4\n"
     ]
    },
    {
     "name": "stdout",
     "output_type": "stream",
     "text": [
      "Try again!\n"
     ]
    },
    {
     "name": "stdin",
     "output_type": "stream",
     "text": [
      "Please, type any digit of your password:  4\n",
      "Please, type any digit of your password: -5\n"
     ]
    },
    {
     "name": "stdout",
     "output_type": "stream",
     "text": [
      "Try again!\n"
     ]
    },
    {
     "name": "stdin",
     "output_type": "stream",
     "text": [
      "Please, type any digit of your password:  4\n",
      "Please, type any digit of your password: -5\n"
     ]
    },
    {
     "name": "stdout",
     "output_type": "stream",
     "text": [
      "Try again!\n"
     ]
    },
    {
     "name": "stdin",
     "output_type": "stream",
     "text": [
      "Please, type any digit of your password:  5\n",
      "Please, type any digit of your password: -7\n"
     ]
    },
    {
     "name": "stdout",
     "output_type": "stream",
     "text": [
      "Try again!\n"
     ]
    },
    {
     "name": "stdin",
     "output_type": "stream",
     "text": [
      "Please, type any digit of your password:  7\n"
     ]
    },
    {
     "name": "stdout",
     "output_type": "stream",
     "text": [
      "[4, 4, 5, 7]\n",
      "4\n",
      "4\n",
      "5\n",
      "7\n"
     ]
    }
   ],
   "source": [
    "pwd=[]\n",
    "for i in range(1,5):\n",
    "    integer = int(input('Please, type any digit of your password:'))\n",
    "    while integer<0 :\n",
    "        print('Try again!')\n",
    "        integer = int(input('Please, type any digit of your password: '))\n",
    "    pwd.append(integer)\n",
    "print(pwd) #Show the content of the list\n",
    "for j in range(len(pwd)):\n",
    "    l=pwd[j]\n",
    "    print(l) #Show in four lines each element inside the liste"
   ]
  },
  {
   "cell_type": "markdown",
   "id": "15f76244-dff0-46ef-8fdb-7478f0f43207",
   "metadata": {},
   "source": [
    "## Exercise 10: Generate and display a list of squares of numbers from 1 to 10 "
   ]
  },
  {
   "cell_type": "code",
   "execution_count": 139,
   "id": "e0b8fbfe-21ff-4212-9e36-389feb51daba",
   "metadata": {},
   "outputs": [
    {
     "name": "stdout",
     "output_type": "stream",
     "text": [
      "[0, 1, 4, 9, 16, 25, 36, 49, 64, 81, 100]\n"
     ]
    }
   ],
   "source": [
    "squares=[]\n",
    "for i in range(11):\n",
    "    square=i**2\n",
    "    squares.append(square)\n",
    "    #print(squares) #To see for each iterations\n",
    "print(squares)"
   ]
  },
  {
   "cell_type": "markdown",
   "id": "3b794b36-4dd5-4345-95bc-18de8998cf31",
   "metadata": {},
   "source": [
    "### The end!"
   ]
  }
 ],
 "metadata": {
  "kernelspec": {
   "display_name": "Python 3 (ipykernel)",
   "language": "python",
   "name": "python3"
  },
  "language_info": {
   "codemirror_mode": {
    "name": "ipython",
    "version": 3
   },
   "file_extension": ".py",
   "mimetype": "text/x-python",
   "name": "python",
   "nbconvert_exporter": "python",
   "pygments_lexer": "ipython3",
   "version": "3.10.7"
  }
 },
 "nbformat": 4,
 "nbformat_minor": 5
}
