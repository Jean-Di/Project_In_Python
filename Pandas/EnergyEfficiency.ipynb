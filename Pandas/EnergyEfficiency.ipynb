{
 "cells": [
  {
   "cell_type": "markdown",
   "id": "781a7530-ce2d-44c6-99e2-a535c470c290",
   "metadata": {},
   "source": [
    "# Energy Efficiency Exercises\n",
    "##### Ing. Jean Didier KOUAKOU /jeandidikouakou@gmail.com/+225 0555420217"
   ]
  },
  {
   "cell_type": "markdown",
   "id": "c27b0e35-a252-47dc-816d-45d6692f0461",
   "metadata": {},
   "source": [
    "#### Data loading "
   ]
  },
  {
   "cell_type": "code",
   "execution_count": 3,
   "id": "6edbcc1a-a081-4df9-98e3-c97a7ebabf37",
   "metadata": {},
   "outputs": [
    {
     "data": {
      "text/html": [
       "<div>\n",
       "<style scoped>\n",
       "    .dataframe tbody tr th:only-of-type {\n",
       "        vertical-align: middle;\n",
       "    }\n",
       "\n",
       "    .dataframe tbody tr th {\n",
       "        vertical-align: top;\n",
       "    }\n",
       "\n",
       "    .dataframe thead th {\n",
       "        text-align: right;\n",
       "    }\n",
       "</style>\n",
       "<table border=\"1\" class=\"dataframe\">\n",
       "  <thead>\n",
       "    <tr style=\"text-align: right;\">\n",
       "      <th></th>\n",
       "      <th>Country</th>\n",
       "      <th>Energy Consumption (TWh)</th>\n",
       "      <th>Energy Efficiency Rating (1-10)</th>\n",
       "      <th>Industry Energy Use (%)</th>\n",
       "      <th>Residential Energy Use (%)</th>\n",
       "    </tr>\n",
       "  </thead>\n",
       "  <tbody>\n",
       "    <tr>\n",
       "      <th>0</th>\n",
       "      <td>CountryA</td>\n",
       "      <td>600</td>\n",
       "      <td>8</td>\n",
       "      <td>40</td>\n",
       "      <td>30</td>\n",
       "    </tr>\n",
       "    <tr>\n",
       "      <th>1</th>\n",
       "      <td>CountryB</td>\n",
       "      <td>2500</td>\n",
       "      <td>6</td>\n",
       "      <td>50</td>\n",
       "      <td>25</td>\n",
       "    </tr>\n",
       "    <tr>\n",
       "      <th>2</th>\n",
       "      <td>CountryC</td>\n",
       "      <td>1200</td>\n",
       "      <td>7</td>\n",
       "      <td>35</td>\n",
       "      <td>20</td>\n",
       "    </tr>\n",
       "    <tr>\n",
       "      <th>3</th>\n",
       "      <td>CountryD</td>\n",
       "      <td>4000</td>\n",
       "      <td>5</td>\n",
       "      <td>55</td>\n",
       "      <td>35</td>\n",
       "    </tr>\n",
       "    <tr>\n",
       "      <th>4</th>\n",
       "      <td>CountryE</td>\n",
       "      <td>1800</td>\n",
       "      <td>9</td>\n",
       "      <td>45</td>\n",
       "      <td>40</td>\n",
       "    </tr>\n",
       "  </tbody>\n",
       "</table>\n",
       "</div>"
      ],
      "text/plain": [
       "    Country  Energy Consumption (TWh)  Energy Efficiency Rating (1-10)  \\\n",
       "0  CountryA                       600                                8   \n",
       "1  CountryB                      2500                                6   \n",
       "2  CountryC                      1200                                7   \n",
       "3  CountryD                      4000                                5   \n",
       "4  CountryE                      1800                                9   \n",
       "\n",
       "   Industry Energy Use (%)  Residential Energy Use (%)  \n",
       "0                       40                          30  \n",
       "1                       50                          25  \n",
       "2                       35                          20  \n",
       "3                       55                          35  \n",
       "4                       45                          40  "
      ]
     },
     "execution_count": 3,
     "metadata": {},
     "output_type": "execute_result"
    }
   ],
   "source": [
    "import pandas as pd\n",
    "\n",
    "# Données\n",
    "data = {\n",
    "    'Country': ['CountryA', 'CountryB', 'CountryC', 'CountryD', 'CountryE'],\n",
    "    'Energy Consumption (TWh)': [600, 2500, 1200, 4000, 1800],\n",
    "    'Energy Efficiency Rating (1-10)': [8, 6, 7, 5, 9],\n",
    "    'Industry Energy Use (%)': [40, 50, 35, 55, 45],\n",
    "    'Residential Energy Use (%)': [30, 25, 20, 35, 40]\n",
    "}\n",
    "\n",
    "df = pd.DataFrame(data)\n",
    "df"
   ]
  },
  {
   "cell_type": "code",
   "execution_count": 4,
   "id": "ddab6cea-39d3-43e5-8fc0-bde9ac7357b9",
   "metadata": {},
   "outputs": [],
   "source": [
    "df.to_csv('Energy_Efficiency.csv', index=False)"
   ]
  },
  {
   "cell_type": "markdown",
   "id": "d5226ee8-5eb0-4642-ae65-84ebfb373507",
   "metadata": {},
   "source": [
    "#### Exercise 1: Calculate the total energy efficiency for each country (in TWh) by multiplying energy consumption by the efficiency rating. Display the results as a DataFrame."
   ]
  },
  {
   "cell_type": "code",
   "execution_count": 7,
   "id": "46325906-7492-445d-9c65-e756022aaff7",
   "metadata": {},
   "outputs": [
    {
     "name": "stdout",
     "output_type": "stream",
     "text": [
      "    Country  Total Energy Efficiency (TWh)\n",
      "0  CountryA                           4800\n",
      "1  CountryB                          15000\n",
      "2  CountryC                           8400\n",
      "3  CountryD                          20000\n",
      "4  CountryE                          16200\n"
     ]
    }
   ],
   "source": [
    "df['Total Energy Efficiency (TWh)']= df['Energy Consumption (TWh)']*df['Energy Efficiency Rating (1-10)']\n",
    "print(df[[\"Country\",\"Total Energy Efficiency (TWh)\"]])"
   ]
  },
  {
   "cell_type": "markdown",
   "id": "8ec21d5e-c1f0-4199-98e1-051f460302ce",
   "metadata": {},
   "source": [
    "#### Exercise 2: Identify the country with the lowest energy consumption per efficiency point. Display the country and the consumption per point."
   ]
  },
  {
   "cell_type": "code",
   "execution_count": 23,
   "id": "af9cba4b-85dc-44c4-af99-96a58937b565",
   "metadata": {},
   "outputs": [
    {
     "name": "stdout",
     "output_type": "stream",
     "text": [
      "Country                                    CountryA\n",
      "Energy Consumption per Efficiency point        75.0\n",
      "Name: 0, dtype: object\n"
     ]
    }
   ],
   "source": [
    "df['Energy Consumption per Efficiency point']=df['Energy Consumption (TWh)']/df['Energy Efficiency Rating (1-10)']\n",
    "df.sort_values('Energy Consumption per Efficiency point', ascending=True)\n",
    "\n",
    "lowest_energy= df.loc[df['Energy Consumption per Efficiency point'].idxmin()]\n",
    "print(lowest_energy[[\"Country\",\"Energy Consumption per Efficiency point\"]])"
   ]
  },
  {
   "cell_type": "markdown",
   "id": "6bdc7717-d680-4110-b13d-9f0089b21c67",
   "metadata": {},
   "source": [
    "#### Exercise 3: Calculate the share of energy consumption used by the residential and industrial sector for each country. Display the results."
   ]
  },
  {
   "cell_type": "code",
   "execution_count": 25,
   "id": "c10f3c81-b4b4-4051-823b-9578691730b0",
   "metadata": {},
   "outputs": [
    {
     "data": {
      "text/html": [
       "<div>\n",
       "<style scoped>\n",
       "    .dataframe tbody tr th:only-of-type {\n",
       "        vertical-align: middle;\n",
       "    }\n",
       "\n",
       "    .dataframe tbody tr th {\n",
       "        vertical-align: top;\n",
       "    }\n",
       "\n",
       "    .dataframe thead th {\n",
       "        text-align: right;\n",
       "    }\n",
       "</style>\n",
       "<table border=\"1\" class=\"dataframe\">\n",
       "  <thead>\n",
       "    <tr style=\"text-align: right;\">\n",
       "      <th></th>\n",
       "      <th>Country</th>\n",
       "      <th>Share of Energy in industrie (Twh)</th>\n",
       "      <th>Share of Energy in residential (Twh)</th>\n",
       "    </tr>\n",
       "  </thead>\n",
       "  <tbody>\n",
       "    <tr>\n",
       "      <th>0</th>\n",
       "      <td>CountryA</td>\n",
       "      <td>240.0</td>\n",
       "      <td>180.0</td>\n",
       "    </tr>\n",
       "    <tr>\n",
       "      <th>1</th>\n",
       "      <td>CountryB</td>\n",
       "      <td>1250.0</td>\n",
       "      <td>625.0</td>\n",
       "    </tr>\n",
       "    <tr>\n",
       "      <th>2</th>\n",
       "      <td>CountryC</td>\n",
       "      <td>420.0</td>\n",
       "      <td>240.0</td>\n",
       "    </tr>\n",
       "    <tr>\n",
       "      <th>3</th>\n",
       "      <td>CountryD</td>\n",
       "      <td>2200.0</td>\n",
       "      <td>1400.0</td>\n",
       "    </tr>\n",
       "    <tr>\n",
       "      <th>4</th>\n",
       "      <td>CountryE</td>\n",
       "      <td>810.0</td>\n",
       "      <td>720.0</td>\n",
       "    </tr>\n",
       "  </tbody>\n",
       "</table>\n",
       "</div>"
      ],
      "text/plain": [
       "    Country  Share of Energy in industrie (Twh)  \\\n",
       "0  CountryA                               240.0   \n",
       "1  CountryB                              1250.0   \n",
       "2  CountryC                               420.0   \n",
       "3  CountryD                              2200.0   \n",
       "4  CountryE                               810.0   \n",
       "\n",
       "   Share of Energy in residential (Twh)  \n",
       "0                                 180.0  \n",
       "1                                 625.0  \n",
       "2                                 240.0  \n",
       "3                                1400.0  \n",
       "4                                 720.0  "
      ]
     },
     "execution_count": 25,
     "metadata": {},
     "output_type": "execute_result"
    }
   ],
   "source": [
    "df['Share of Energy in residential (Twh)'] = df[\"Energy Consumption (TWh)\"]*df[\"Residential Energy Use (%)\"]/100\n",
    "df['Share of Energy in industrie (Twh)'] = df[\"Energy Consumption (TWh)\"]*df[\"Industry Energy Use (%)\"]/100\n",
    "\n",
    "df[[\"Country\",\"Share of Energy in industrie (Twh)\",\"Share of Energy in residential (Twh)\"]]"
   ]
  },
  {
   "cell_type": "markdown",
   "id": "9a01bec2-4d5d-4665-9eed-0f663bc1f31a",
   "metadata": {},
   "source": [
    "#### Exercise 4: Calculate the correlation between energy efficiency rating and the share of energy consumption in the industrial sector. Interpret the result.\n"
   ]
  },
  {
   "cell_type": "code",
   "execution_count": 26,
   "id": "831f5a3d-abbd-47f8-9b1f-3b8f81f97013",
   "metadata": {},
   "outputs": [
    {
     "name": "stdout",
     "output_type": "stream",
     "text": [
      "The correlation between the two variables is : -0.7654894430561701\n"
     ]
    }
   ],
   "source": [
    "correlation = df[\"Energy Efficiency Rating (1-10)\"].corr(df[\"Share of Energy in industrie (Twh)\"])\n",
    "print(\"The correlation between the two variables is :\", correlation)"
   ]
  }
 ],
 "metadata": {
  "kernelspec": {
   "display_name": "Python 3 (ipykernel)",
   "language": "python",
   "name": "python3"
  },
  "language_info": {
   "codemirror_mode": {
    "name": "ipython",
    "version": 3
   },
   "file_extension": ".py",
   "mimetype": "text/x-python",
   "name": "python",
   "nbconvert_exporter": "python",
   "pygments_lexer": "ipython3",
   "version": "3.10.7"
  }
 },
 "nbformat": 4,
 "nbformat_minor": 5
}
