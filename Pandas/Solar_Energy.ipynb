{
 "cells": [
  {
   "cell_type": "markdown",
   "id": "e80d2acf-bb6d-41d5-aba8-3b66aa12d1ed",
   "metadata": {},
   "source": [
    "# Solar Energy Exercises\n",
    "##### Ing. Jean Didier KOUAKOU /jeandidikouakou@gmail.com/+225 0555420217"
   ]
  },
  {
   "cell_type": "markdown",
   "id": "310ff4c9-8597-4823-b782-f426f39929f8",
   "metadata": {},
   "source": [
    "#### Data loading "
   ]
  },
  {
   "cell_type": "code",
   "execution_count": 12,
   "id": "7fe2d793-b563-42f1-84b4-0a644ffc9751",
   "metadata": {},
   "outputs": [
    {
     "data": {
      "text/html": [
       "<div>\n",
       "<style scoped>\n",
       "    .dataframe tbody tr th:only-of-type {\n",
       "        vertical-align: middle;\n",
       "    }\n",
       "\n",
       "    .dataframe tbody tr th {\n",
       "        vertical-align: top;\n",
       "    }\n",
       "\n",
       "    .dataframe thead th {\n",
       "        text-align: right;\n",
       "    }\n",
       "</style>\n",
       "<table border=\"1\" class=\"dataframe\">\n",
       "  <thead>\n",
       "    <tr style=\"text-align: right;\">\n",
       "      <th></th>\n",
       "      <th>Country</th>\n",
       "      <th>Solar Energy Capacity (GW)</th>\n",
       "      <th>Solar Energy Production (TWh)</th>\n",
       "      <th>Population (millions)</th>\n",
       "      <th>Solar Percentage (%)</th>\n",
       "    </tr>\n",
       "  </thead>\n",
       "  <tbody>\n",
       "    <tr>\n",
       "      <th>0</th>\n",
       "      <td>CountryA</td>\n",
       "      <td>50</td>\n",
       "      <td>70</td>\n",
       "      <td>60</td>\n",
       "      <td>15</td>\n",
       "    </tr>\n",
       "    <tr>\n",
       "      <th>1</th>\n",
       "      <td>CountryB</td>\n",
       "      <td>120</td>\n",
       "      <td>180</td>\n",
       "      <td>100</td>\n",
       "      <td>25</td>\n",
       "    </tr>\n",
       "    <tr>\n",
       "      <th>2</th>\n",
       "      <td>CountryC</td>\n",
       "      <td>30</td>\n",
       "      <td>40</td>\n",
       "      <td>30</td>\n",
       "      <td>10</td>\n",
       "    </tr>\n",
       "    <tr>\n",
       "      <th>3</th>\n",
       "      <td>CountryD</td>\n",
       "      <td>200</td>\n",
       "      <td>300</td>\n",
       "      <td>200</td>\n",
       "      <td>30</td>\n",
       "    </tr>\n",
       "    <tr>\n",
       "      <th>4</th>\n",
       "      <td>CountryE</td>\n",
       "      <td>80</td>\n",
       "      <td>120</td>\n",
       "      <td>80</td>\n",
       "      <td>20</td>\n",
       "    </tr>\n",
       "  </tbody>\n",
       "</table>\n",
       "</div>"
      ],
      "text/plain": [
       "    Country  Solar Energy Capacity (GW)  Solar Energy Production (TWh)  \\\n",
       "0  CountryA                          50                             70   \n",
       "1  CountryB                         120                            180   \n",
       "2  CountryC                          30                             40   \n",
       "3  CountryD                         200                            300   \n",
       "4  CountryE                          80                            120   \n",
       "\n",
       "   Population (millions)  Solar Percentage (%)  \n",
       "0                     60                    15  \n",
       "1                    100                    25  \n",
       "2                     30                    10  \n",
       "3                    200                    30  \n",
       "4                     80                    20  "
      ]
     },
     "execution_count": 12,
     "metadata": {},
     "output_type": "execute_result"
    }
   ],
   "source": [
    "import pandas as pd\n",
    "\n",
    "# Données\n",
    "data = {\n",
    "    'Country': ['CountryA', 'CountryB', 'CountryC', 'CountryD', 'CountryE'],\n",
    "    'Solar Energy Capacity (GW)': [50, 120, 30, 200, 80],\n",
    "    'Solar Energy Production (TWh)': [70, 180, 40, 300, 120],\n",
    "    'Population (millions)': [60, 100, 30, 200, 80],\n",
    "    'Solar Percentage (%)': [15, 25, 10, 30, 20]\n",
    "}\n",
    "\n",
    "df = pd.DataFrame(data)\n",
    "df"
   ]
  },
  {
   "cell_type": "markdown",
   "id": "70f774c2-1e09-4652-bf03-4ad46d339ff6",
   "metadata": {},
   "source": [
    "#### Exercise 1: Calculate the solar energy production per capita for each country (in MWh). Display the results as a DataFrame."
   ]
  },
  {
   "cell_type": "code",
   "execution_count": 5,
   "id": "434485b2-ee34-49ff-a1eb-67908063949e",
   "metadata": {},
   "outputs": [
    {
     "name": "stdout",
     "output_type": "stream",
     "text": [
      "    Country  Solar Energy Production per capita (MWh)\n",
      "0  CountryA                                  1.166667\n",
      "1  CountryB                                  1.800000\n",
      "2  CountryC                                  1.333333\n",
      "3  CountryD                                  1.500000\n",
      "4  CountryE                                  1.500000\n"
     ]
    }
   ],
   "source": [
    "df[\"Solar Energy Production per capita (MWh)\"]=df[\"Solar Energy Production (TWh)\"]/df[\"Population (millions)\"]\n",
    "print(df[[\"Country\",\"Solar Energy Production per capita (MWh)\"]])"
   ]
  },
  {
   "cell_type": "markdown",
   "id": "16b9b718-e317-4b6d-aaee-baaae42d9210",
   "metadata": {},
   "source": [
    "#### Exercise 2: Identify the country with the highest solar energy capacity per capita. Display the country and the capacity per capita."
   ]
  },
  {
   "cell_type": "code",
   "execution_count": 10,
   "id": "eefcd0f3-fbaa-4202-b325-80d762d4804f",
   "metadata": {},
   "outputs": [
    {
     "data": {
      "text/html": [
       "<div>\n",
       "<style scoped>\n",
       "    .dataframe tbody tr th:only-of-type {\n",
       "        vertical-align: middle;\n",
       "    }\n",
       "\n",
       "    .dataframe tbody tr th {\n",
       "        vertical-align: top;\n",
       "    }\n",
       "\n",
       "    .dataframe thead th {\n",
       "        text-align: right;\n",
       "    }\n",
       "</style>\n",
       "<table border=\"1\" class=\"dataframe\">\n",
       "  <thead>\n",
       "    <tr style=\"text-align: right;\">\n",
       "      <th></th>\n",
       "      <th>Country</th>\n",
       "      <th>Solar Energy Capacity per capita (kW)</th>\n",
       "    </tr>\n",
       "  </thead>\n",
       "  <tbody>\n",
       "    <tr>\n",
       "      <th>1</th>\n",
       "      <td>CountryB</td>\n",
       "      <td>1.200000</td>\n",
       "    </tr>\n",
       "    <tr>\n",
       "      <th>2</th>\n",
       "      <td>CountryC</td>\n",
       "      <td>1.000000</td>\n",
       "    </tr>\n",
       "    <tr>\n",
       "      <th>3</th>\n",
       "      <td>CountryD</td>\n",
       "      <td>1.000000</td>\n",
       "    </tr>\n",
       "    <tr>\n",
       "      <th>4</th>\n",
       "      <td>CountryE</td>\n",
       "      <td>1.000000</td>\n",
       "    </tr>\n",
       "    <tr>\n",
       "      <th>0</th>\n",
       "      <td>CountryA</td>\n",
       "      <td>0.833333</td>\n",
       "    </tr>\n",
       "  </tbody>\n",
       "</table>\n",
       "</div>"
      ],
      "text/plain": [
       "    Country  Solar Energy Capacity per capita (kW)\n",
       "1  CountryB                               1.200000\n",
       "2  CountryC                               1.000000\n",
       "3  CountryD                               1.000000\n",
       "4  CountryE                               1.000000\n",
       "0  CountryA                               0.833333"
      ]
     },
     "execution_count": 10,
     "metadata": {},
     "output_type": "execute_result"
    }
   ],
   "source": [
    "#First method\n",
    "df[\"Solar Energy Capacity per capita (kW)\"]=df[\"Solar Energy Capacity (GW)\"]/df[\"Population (millions)\"]\n",
    "highest_solar_energy_capacity=df.sort_values(\"Solar Energy Capacity per capita (kW)\", ascending=False)\n",
    "highest_solar_energy_capacity[['Country', 'Solar Energy Capacity per capita (kW)']]"
   ]
  },
  {
   "cell_type": "code",
   "execution_count": 11,
   "id": "ec8a1a49-6a3a-46dc-b8db-ed499f3aff45",
   "metadata": {},
   "outputs": [
    {
     "data": {
      "text/plain": [
       "Country                                  CountryB\n",
       "Solar Energy Capacity per capita (kW)         1.2\n",
       "Name: 1, dtype: object"
      ]
     },
     "execution_count": 11,
     "metadata": {},
     "output_type": "execute_result"
    }
   ],
   "source": [
    "#Second method\n",
    "df[\"Solar Energy Capacity per capita (kW)\"]=df[\"Solar Energy Capacity (GW)\"]/df[\"Population (millions)\"]\n",
    "highest_solar_energy_capacity=df.loc[df[\"Solar Energy Capacity per capita (kW)\"].idxmax()]\n",
    "highest_solar_energy_capacity[['Country', 'Solar Energy Capacity per capita (kW)']]"
   ]
  },
  {
   "cell_type": "markdown",
   "id": "a7b9fd33-4092-4ba9-811b-01f171ec5513",
   "metadata": {},
   "source": [
    "#### Exercise 3: Calculate the ratio of solar energy production to installed capacity for each country. Display the results."
   ]
  },
  {
   "cell_type": "code",
   "execution_count": 16,
   "id": "1e72c84e-c0e1-418a-b395-c14751030395",
   "metadata": {},
   "outputs": [
    {
     "data": {
      "text/html": [
       "<div>\n",
       "<style scoped>\n",
       "    .dataframe tbody tr th:only-of-type {\n",
       "        vertical-align: middle;\n",
       "    }\n",
       "\n",
       "    .dataframe tbody tr th {\n",
       "        vertical-align: top;\n",
       "    }\n",
       "\n",
       "    .dataframe thead th {\n",
       "        text-align: right;\n",
       "    }\n",
       "</style>\n",
       "<table border=\"1\" class=\"dataframe\">\n",
       "  <thead>\n",
       "    <tr style=\"text-align: right;\">\n",
       "      <th></th>\n",
       "      <th>Country</th>\n",
       "      <th>Solar Prod Ratio</th>\n",
       "    </tr>\n",
       "  </thead>\n",
       "  <tbody>\n",
       "    <tr>\n",
       "      <th>0</th>\n",
       "      <td>CountryA</td>\n",
       "      <td>1.400000</td>\n",
       "    </tr>\n",
       "    <tr>\n",
       "      <th>1</th>\n",
       "      <td>CountryB</td>\n",
       "      <td>1.500000</td>\n",
       "    </tr>\n",
       "    <tr>\n",
       "      <th>2</th>\n",
       "      <td>CountryC</td>\n",
       "      <td>1.333333</td>\n",
       "    </tr>\n",
       "    <tr>\n",
       "      <th>3</th>\n",
       "      <td>CountryD</td>\n",
       "      <td>1.500000</td>\n",
       "    </tr>\n",
       "    <tr>\n",
       "      <th>4</th>\n",
       "      <td>CountryE</td>\n",
       "      <td>1.500000</td>\n",
       "    </tr>\n",
       "  </tbody>\n",
       "</table>\n",
       "</div>"
      ],
      "text/plain": [
       "    Country  Solar Prod Ratio\n",
       "0  CountryA          1.400000\n",
       "1  CountryB          1.500000\n",
       "2  CountryC          1.333333\n",
       "3  CountryD          1.500000\n",
       "4  CountryE          1.500000"
      ]
     },
     "execution_count": 16,
     "metadata": {},
     "output_type": "execute_result"
    }
   ],
   "source": [
    "df[\"Solar Prod Ratio\"]=df[\"Solar Energy Production (TWh)\"]/df[\"Solar Energy Capacity (GW)\"]\n",
    "df[[\"Country\",\"Solar Prod Ratio\"]]"
   ]
  },
  {
   "cell_type": "markdown",
   "id": "f0d02869-cb84-400d-91c5-63d44218a05a",
   "metadata": {},
   "source": [
    "#### Exercise 4: Calculate the correlation between solar energy capacity and solar energy production. Interpret the result."
   ]
  },
  {
   "cell_type": "code",
   "execution_count": 17,
   "id": "6269d9c2-52fc-4bff-b401-166198fcdf99",
   "metadata": {},
   "outputs": [
    {
     "name": "stdout",
     "output_type": "stream",
     "text": [
      "The correlation between the two variables is : 0.9998505872756203\n"
     ]
    }
   ],
   "source": [
    "correlation = df[\"Solar Energy Capacity (GW)\"].corr(df[\"Solar Energy Production (TWh)\"])\n",
    "print(\"The correlation between the two variables is :\", correlation)"
   ]
  },
  {
   "cell_type": "markdown",
   "id": "d5a14f9b-b555-4976-a51f-ba6321d63ebb",
   "metadata": {},
   "source": [
    "#### Exercise 5: Suppose each country increases its solar energy capacity by 10% per year for 5 years. Calculate and display the projected capacity for each country after 5 years.\n"
   ]
  },
  {
   "cell_type": "code",
   "execution_count": 18,
   "id": "ab3b4240-c2fb-427a-ac94-a3694ed183b9",
   "metadata": {},
   "outputs": [
    {
     "data": {
      "text/html": [
       "<div>\n",
       "<style scoped>\n",
       "    .dataframe tbody tr th:only-of-type {\n",
       "        vertical-align: middle;\n",
       "    }\n",
       "\n",
       "    .dataframe tbody tr th {\n",
       "        vertical-align: top;\n",
       "    }\n",
       "\n",
       "    .dataframe thead th {\n",
       "        text-align: right;\n",
       "    }\n",
       "</style>\n",
       "<table border=\"1\" class=\"dataframe\">\n",
       "  <thead>\n",
       "    <tr style=\"text-align: right;\">\n",
       "      <th></th>\n",
       "      <th>Country</th>\n",
       "      <th>Solar Energy Capacity (GW)</th>\n",
       "      <th>Projected Capacity (GW)</th>\n",
       "    </tr>\n",
       "  </thead>\n",
       "  <tbody>\n",
       "    <tr>\n",
       "      <th>0</th>\n",
       "      <td>CountryA</td>\n",
       "      <td>50</td>\n",
       "      <td>52.550503</td>\n",
       "    </tr>\n",
       "    <tr>\n",
       "      <th>1</th>\n",
       "      <td>CountryB</td>\n",
       "      <td>120</td>\n",
       "      <td>126.121206</td>\n",
       "    </tr>\n",
       "    <tr>\n",
       "      <th>2</th>\n",
       "      <td>CountryC</td>\n",
       "      <td>30</td>\n",
       "      <td>31.530302</td>\n",
       "    </tr>\n",
       "    <tr>\n",
       "      <th>3</th>\n",
       "      <td>CountryD</td>\n",
       "      <td>200</td>\n",
       "      <td>210.202010</td>\n",
       "    </tr>\n",
       "    <tr>\n",
       "      <th>4</th>\n",
       "      <td>CountryE</td>\n",
       "      <td>80</td>\n",
       "      <td>84.080804</td>\n",
       "    </tr>\n",
       "  </tbody>\n",
       "</table>\n",
       "</div>"
      ],
      "text/plain": [
       "    Country  Solar Energy Capacity (GW)  Projected Capacity (GW)\n",
       "0  CountryA                          50                52.550503\n",
       "1  CountryB                         120               126.121206\n",
       "2  CountryC                          30                31.530302\n",
       "3  CountryD                         200               210.202010\n",
       "4  CountryE                          80                84.080804"
      ]
     },
     "execution_count": 18,
     "metadata": {},
     "output_type": "execute_result"
    }
   ],
   "source": [
    "df['Projected Capacity (GW)']=df[\"Solar Energy Capacity (GW)\"]*(1+0.01)**5\n",
    "df[[\"Country\",\"Solar Energy Capacity (GW)\",\"Projected Capacity (GW)\"]]"
   ]
  }
 ],
 "metadata": {
  "kernelspec": {
   "display_name": "Python 3 (ipykernel)",
   "language": "python",
   "name": "python3"
  },
  "language_info": {
   "codemirror_mode": {
    "name": "ipython",
    "version": 3
   },
   "file_extension": ".py",
   "mimetype": "text/x-python",
   "name": "python",
   "nbconvert_exporter": "python",
   "pygments_lexer": "ipython3",
   "version": "3.10.7"
  }
 },
 "nbformat": 4,
 "nbformat_minor": 5
}
