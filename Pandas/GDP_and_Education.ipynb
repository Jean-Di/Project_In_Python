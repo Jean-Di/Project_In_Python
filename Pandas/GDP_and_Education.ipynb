{
 "cells": [
  {
   "cell_type": "markdown",
   "id": "abed1f92-a15a-4607-8a88-a164d46e8700",
   "metadata": {},
   "source": [
    "# GDP and Education\n",
    "##### Ing. Jean Didier KOUAKOU /jeandidikouakou@gmail.com/+225 0555420217"
   ]
  },
  {
   "cell_type": "markdown",
   "id": "f828fae0-d265-4cfc-a301-825deae84a60",
   "metadata": {},
   "source": [
    "#### Data loading "
   ]
  },
  {
   "cell_type": "code",
   "execution_count": 6,
   "id": "5dbb6e78-0b48-41f1-815c-d9c4f3b47ce2",
   "metadata": {},
   "outputs": [
    {
     "data": {
      "text/html": [
       "<div>\n",
       "<style scoped>\n",
       "    .dataframe tbody tr th:only-of-type {\n",
       "        vertical-align: middle;\n",
       "    }\n",
       "\n",
       "    .dataframe tbody tr th {\n",
       "        vertical-align: top;\n",
       "    }\n",
       "\n",
       "    .dataframe thead th {\n",
       "        text-align: right;\n",
       "    }\n",
       "</style>\n",
       "<table border=\"1\" class=\"dataframe\">\n",
       "  <thead>\n",
       "    <tr style=\"text-align: right;\">\n",
       "      <th></th>\n",
       "      <th>Country</th>\n",
       "      <th>GDP (Billion $)</th>\n",
       "      <th>Education Spending (% of GDP)</th>\n",
       "      <th>Unemployment Rate (%)</th>\n",
       "      <th>Life Expectancy (years)</th>\n",
       "    </tr>\n",
       "  </thead>\n",
       "  <tbody>\n",
       "    <tr>\n",
       "      <th>0</th>\n",
       "      <td>Country1</td>\n",
       "      <td>1500</td>\n",
       "      <td>5</td>\n",
       "      <td>4.5</td>\n",
       "      <td>78</td>\n",
       "    </tr>\n",
       "    <tr>\n",
       "      <th>1</th>\n",
       "      <td>Country2</td>\n",
       "      <td>3000</td>\n",
       "      <td>6</td>\n",
       "      <td>3.2</td>\n",
       "      <td>82</td>\n",
       "    </tr>\n",
       "    <tr>\n",
       "      <th>2</th>\n",
       "      <td>Country3</td>\n",
       "      <td>2000</td>\n",
       "      <td>4</td>\n",
       "      <td>5.1</td>\n",
       "      <td>75</td>\n",
       "    </tr>\n",
       "    <tr>\n",
       "      <th>3</th>\n",
       "      <td>Country4</td>\n",
       "      <td>4000</td>\n",
       "      <td>3</td>\n",
       "      <td>6.0</td>\n",
       "      <td>80</td>\n",
       "    </tr>\n",
       "    <tr>\n",
       "      <th>4</th>\n",
       "      <td>Country5</td>\n",
       "      <td>2500</td>\n",
       "      <td>7</td>\n",
       "      <td>2.8</td>\n",
       "      <td>85</td>\n",
       "    </tr>\n",
       "  </tbody>\n",
       "</table>\n",
       "</div>"
      ],
      "text/plain": [
       "    Country  GDP (Billion $)  Education Spending (% of GDP)  \\\n",
       "0  Country1             1500                              5   \n",
       "1  Country2             3000                              6   \n",
       "2  Country3             2000                              4   \n",
       "3  Country4             4000                              3   \n",
       "4  Country5             2500                              7   \n",
       "\n",
       "   Unemployment Rate (%)  Life Expectancy (years)  \n",
       "0                    4.5                       78  \n",
       "1                    3.2                       82  \n",
       "2                    5.1                       75  \n",
       "3                    6.0                       80  \n",
       "4                    2.8                       85  "
      ]
     },
     "execution_count": 6,
     "metadata": {},
     "output_type": "execute_result"
    }
   ],
   "source": [
    "import pandas as pd\n",
    "\n",
    "# Données\n",
    "data = {\n",
    "    'Country': ['Country1', 'Country2', 'Country3', 'Country4', 'Country5'],\n",
    "    'GDP (Billion $)': [1500, 3000, 2000, 4000, 2500],\n",
    "    'Education Spending (% of GDP)': [5, 6, 4, 3, 7],\n",
    "    'Unemployment Rate (%)': [4.5, 3.2, 5.1, 6.0, 2.8],\n",
    "    'Life Expectancy (years)': [78, 82, 75, 80, 85]\n",
    "}\n",
    "\n",
    "df = pd.DataFrame(data)\n",
    "df"
   ]
  },
  {
   "cell_type": "markdown",
   "id": "5a8a485b-19de-455a-8f28-42a2fbb255e6",
   "metadata": {},
   "source": [
    "#### Exercise 1: Calculate the amount spent on education for each country in billion dollars. Display the results as a DataFrame."
   ]
  },
  {
   "cell_type": "code",
   "execution_count": 8,
   "id": "183d1183-521c-43f3-aaec-5be604dfa4e2",
   "metadata": {},
   "outputs": [
    {
     "data": {
      "text/html": [
       "<div>\n",
       "<style scoped>\n",
       "    .dataframe tbody tr th:only-of-type {\n",
       "        vertical-align: middle;\n",
       "    }\n",
       "\n",
       "    .dataframe tbody tr th {\n",
       "        vertical-align: top;\n",
       "    }\n",
       "\n",
       "    .dataframe thead th {\n",
       "        text-align: right;\n",
       "    }\n",
       "</style>\n",
       "<table border=\"1\" class=\"dataframe\">\n",
       "  <thead>\n",
       "    <tr style=\"text-align: right;\">\n",
       "      <th></th>\n",
       "      <th>Country</th>\n",
       "      <th>GDP (Billion $)</th>\n",
       "      <th>Education Spending (% of GDP)</th>\n",
       "      <th>Unemployment Rate (%)</th>\n",
       "      <th>Life Expectancy (years)</th>\n",
       "      <th>Amount spent on Education</th>\n",
       "      <th>Amount spent on Education (Billion $)</th>\n",
       "    </tr>\n",
       "  </thead>\n",
       "  <tbody>\n",
       "    <tr>\n",
       "      <th>0</th>\n",
       "      <td>Country1</td>\n",
       "      <td>1500</td>\n",
       "      <td>5</td>\n",
       "      <td>4.5</td>\n",
       "      <td>78</td>\n",
       "      <td>75.0</td>\n",
       "      <td>75.0</td>\n",
       "    </tr>\n",
       "    <tr>\n",
       "      <th>1</th>\n",
       "      <td>Country2</td>\n",
       "      <td>3000</td>\n",
       "      <td>6</td>\n",
       "      <td>3.2</td>\n",
       "      <td>82</td>\n",
       "      <td>180.0</td>\n",
       "      <td>180.0</td>\n",
       "    </tr>\n",
       "    <tr>\n",
       "      <th>2</th>\n",
       "      <td>Country3</td>\n",
       "      <td>2000</td>\n",
       "      <td>4</td>\n",
       "      <td>5.1</td>\n",
       "      <td>75</td>\n",
       "      <td>80.0</td>\n",
       "      <td>80.0</td>\n",
       "    </tr>\n",
       "    <tr>\n",
       "      <th>3</th>\n",
       "      <td>Country4</td>\n",
       "      <td>4000</td>\n",
       "      <td>3</td>\n",
       "      <td>6.0</td>\n",
       "      <td>80</td>\n",
       "      <td>120.0</td>\n",
       "      <td>120.0</td>\n",
       "    </tr>\n",
       "    <tr>\n",
       "      <th>4</th>\n",
       "      <td>Country5</td>\n",
       "      <td>2500</td>\n",
       "      <td>7</td>\n",
       "      <td>2.8</td>\n",
       "      <td>85</td>\n",
       "      <td>175.0</td>\n",
       "      <td>175.0</td>\n",
       "    </tr>\n",
       "  </tbody>\n",
       "</table>\n",
       "</div>"
      ],
      "text/plain": [
       "    Country  GDP (Billion $)  Education Spending (% of GDP)  \\\n",
       "0  Country1             1500                              5   \n",
       "1  Country2             3000                              6   \n",
       "2  Country3             2000                              4   \n",
       "3  Country4             4000                              3   \n",
       "4  Country5             2500                              7   \n",
       "\n",
       "   Unemployment Rate (%)  Life Expectancy (years)  Amount spent on Education  \\\n",
       "0                    4.5                       78                       75.0   \n",
       "1                    3.2                       82                      180.0   \n",
       "2                    5.1                       75                       80.0   \n",
       "3                    6.0                       80                      120.0   \n",
       "4                    2.8                       85                      175.0   \n",
       "\n",
       "   Amount spent on Education (Billion $)  \n",
       "0                                   75.0  \n",
       "1                                  180.0  \n",
       "2                                   80.0  \n",
       "3                                  120.0  \n",
       "4                                  175.0  "
      ]
     },
     "execution_count": 8,
     "metadata": {},
     "output_type": "execute_result"
    }
   ],
   "source": [
    "df[\"Amount spent on Education (Billion $)\"]=(df[\"GDP (Billion $)\"]*df[\"Education Spending (% of GDP)\"])/100\n",
    "df"
   ]
  },
  {
   "cell_type": "markdown",
   "id": "112bbf32-ab8a-4e3f-9e68-f8ce59d7e5fe",
   "metadata": {},
   "source": [
    "#### Exercise 2: Identify the country with the lowest unemployment rate. Display the country and the unemployment rate."
   ]
  },
  {
   "cell_type": "code",
   "execution_count": 10,
   "id": "03f61cea-f2e8-4b22-be3a-38dcb0309007",
   "metadata": {},
   "outputs": [
    {
     "data": {
      "text/plain": [
       "Country                  Country5\n",
       "Unemployment Rate (%)         2.8\n",
       "Name: 4, dtype: object"
      ]
     },
     "execution_count": 10,
     "metadata": {},
     "output_type": "execute_result"
    }
   ],
   "source": [
    "lowest_unemployment_rate=df.loc[df[\"Unemployment Rate (%)\"].idxmin()]\n",
    "lowest_unemployment_rate[[\"Country\",\"Unemployment Rate (%)\"]]"
   ]
  },
  {
   "cell_type": "markdown",
   "id": "9c7d7abf-8059-415b-96cb-883aeaaed031",
   "metadata": {},
   "source": [
    "#### Exercise 3: Calculate the average life expectancy for all countries. Display the result."
   ]
  },
  {
   "cell_type": "code",
   "execution_count": 12,
   "id": "df7b21a6-8160-469e-9f67-324cb4aa3373",
   "metadata": {},
   "outputs": [
    {
     "data": {
      "text/plain": [
       "80.0"
      ]
     },
     "execution_count": 12,
     "metadata": {},
     "output_type": "execute_result"
    }
   ],
   "source": [
    "Average_life=df[\"Life Expectancy (years)\"].mean()\n",
    "Average_life"
   ]
  },
  {
   "cell_type": "markdown",
   "id": "007fcceb-cc6f-492d-956d-067c0b8ef107",
   "metadata": {},
   "source": [
    "#### Exercise 4: Calculate the correlation between GDP and education spending. Interpret the result."
   ]
  },
  {
   "cell_type": "code",
   "execution_count": 13,
   "id": "b4e7324f-65bb-450c-b479-205191219f44",
   "metadata": {},
   "outputs": [
    {
     "data": {
      "text/plain": [
       "-0.3287979746107145"
      ]
     },
     "execution_count": 13,
     "metadata": {},
     "output_type": "execute_result"
    }
   ],
   "source": [
    "correlation = df[\"GDP (Billion $)\"].corr(df[\"Education Spending (% of GDP)\"])\n",
    "correlation"
   ]
  },
  {
   "cell_type": "markdown",
   "id": "6d5ad5c4-34c8-43a4-91d6-196cf27ec395",
   "metadata": {},
   "source": [
    "#### Exercise 5: Suppose each country’s GDP increases by 3% per year for 4 years. Calculate and display the projected GDP for each country after 4 years."
   ]
  },
  {
   "cell_type": "code",
   "execution_count": 17,
   "id": "e506880f-dd37-48d0-93e6-d65dfa06c976",
   "metadata": {},
   "outputs": [
    {
     "data": {
      "text/html": [
       "<div>\n",
       "<style scoped>\n",
       "    .dataframe tbody tr th:only-of-type {\n",
       "        vertical-align: middle;\n",
       "    }\n",
       "\n",
       "    .dataframe tbody tr th {\n",
       "        vertical-align: top;\n",
       "    }\n",
       "\n",
       "    .dataframe thead th {\n",
       "        text-align: right;\n",
       "    }\n",
       "</style>\n",
       "<table border=\"1\" class=\"dataframe\">\n",
       "  <thead>\n",
       "    <tr style=\"text-align: right;\">\n",
       "      <th></th>\n",
       "      <th>Country</th>\n",
       "      <th>GDP (Billion $)</th>\n",
       "      <th>Projected GDP (Billion $)</th>\n",
       "    </tr>\n",
       "  </thead>\n",
       "  <tbody>\n",
       "    <tr>\n",
       "      <th>0</th>\n",
       "      <td>Country1</td>\n",
       "      <td>1500</td>\n",
       "      <td>1688.263215</td>\n",
       "    </tr>\n",
       "    <tr>\n",
       "      <th>1</th>\n",
       "      <td>Country2</td>\n",
       "      <td>3000</td>\n",
       "      <td>3376.526430</td>\n",
       "    </tr>\n",
       "    <tr>\n",
       "      <th>2</th>\n",
       "      <td>Country3</td>\n",
       "      <td>2000</td>\n",
       "      <td>2251.017620</td>\n",
       "    </tr>\n",
       "    <tr>\n",
       "      <th>3</th>\n",
       "      <td>Country4</td>\n",
       "      <td>4000</td>\n",
       "      <td>4502.035240</td>\n",
       "    </tr>\n",
       "    <tr>\n",
       "      <th>4</th>\n",
       "      <td>Country5</td>\n",
       "      <td>2500</td>\n",
       "      <td>2813.772025</td>\n",
       "    </tr>\n",
       "  </tbody>\n",
       "</table>\n",
       "</div>"
      ],
      "text/plain": [
       "    Country  GDP (Billion $)  Projected GDP (Billion $)\n",
       "0  Country1             1500                1688.263215\n",
       "1  Country2             3000                3376.526430\n",
       "2  Country3             2000                2251.017620\n",
       "3  Country4             4000                4502.035240\n",
       "4  Country5             2500                2813.772025"
      ]
     },
     "execution_count": 17,
     "metadata": {},
     "output_type": "execute_result"
    }
   ],
   "source": [
    "df[\"Projected GDP (Billion $)\"]=df[\"GDP (Billion $)\"]*(1+0.03)**4\n",
    "df[[\"Country\", \"GDP (Billion $)\", \"Projected GDP (Billion $)\"]]"
   ]
  },
  {
   "cell_type": "code",
   "execution_count": null,
   "id": "fb3658c5-9762-4804-8b48-ef0bc3b61b21",
   "metadata": {},
   "outputs": [],
   "source": []
  }
 ],
 "metadata": {
  "kernelspec": {
   "display_name": "Python 3 (ipykernel)",
   "language": "python",
   "name": "python3"
  },
  "language_info": {
   "codemirror_mode": {
    "name": "ipython",
    "version": 3
   },
   "file_extension": ".py",
   "mimetype": "text/x-python",
   "name": "python",
   "nbconvert_exporter": "python",
   "pygments_lexer": "ipython3",
   "version": "3.10.7"
  }
 },
 "nbformat": 4,
 "nbformat_minor": 5
}
