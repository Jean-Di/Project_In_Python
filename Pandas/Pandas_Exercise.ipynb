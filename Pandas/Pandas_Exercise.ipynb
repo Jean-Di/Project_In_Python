{
 "cells": [
  {
   "cell_type": "markdown",
   "id": "5693dbe6-7b4e-4ccf-bf98-d87677f18b34",
   "metadata": {},
   "source": [
    "# Pandas Exercise\n",
    "##### Ing. Jean Didier KOUAKOU /jeandidikouakou@gmail.com/+225 0555420217"
   ]
  },
  {
   "cell_type": "markdown",
   "id": "756b8cc8-52c0-4b4d-b3dc-c916543e6853",
   "metadata": {},
   "source": [
    "## Problem 1 : Solar Energy for a country"
   ]
  },
  {
   "cell_type": "markdown",
   "id": "c6a9d405-f154-4538-a5cf-f81920b05c4a",
   "metadata": {},
   "source": [
    "#### Question 0 : Construction of the data as dataframe "
   ]
  },
  {
   "cell_type": "code",
   "execution_count": 7,
   "id": "d097ddf8-f408-42bc-9da2-01aed3cc6ee1",
   "metadata": {},
   "outputs": [
    {
     "data": {
      "text/html": [
       "<div>\n",
       "<style scoped>\n",
       "    .dataframe tbody tr th:only-of-type {\n",
       "        vertical-align: middle;\n",
       "    }\n",
       "\n",
       "    .dataframe tbody tr th {\n",
       "        vertical-align: top;\n",
       "    }\n",
       "\n",
       "    .dataframe thead th {\n",
       "        text-align: right;\n",
       "    }\n",
       "</style>\n",
       "<table border=\"1\" class=\"dataframe\">\n",
       "  <thead>\n",
       "    <tr style=\"text-align: right;\">\n",
       "      <th></th>\n",
       "      <th>Country</th>\n",
       "      <th>Solar Energy Capacity (GW)</th>\n",
       "      <th>Solar Energy Production (TWh)</th>\n",
       "      <th>Population (millions)</th>\n",
       "      <th>Solar Percentage (%)</th>\n",
       "    </tr>\n",
       "  </thead>\n",
       "  <tbody>\n",
       "    <tr>\n",
       "      <th>0</th>\n",
       "      <td>Country1</td>\n",
       "      <td>50</td>\n",
       "      <td>70</td>\n",
       "      <td>60</td>\n",
       "      <td>15</td>\n",
       "    </tr>\n",
       "    <tr>\n",
       "      <th>1</th>\n",
       "      <td>Country2</td>\n",
       "      <td>120</td>\n",
       "      <td>180</td>\n",
       "      <td>100</td>\n",
       "      <td>25</td>\n",
       "    </tr>\n",
       "    <tr>\n",
       "      <th>2</th>\n",
       "      <td>Country3</td>\n",
       "      <td>30</td>\n",
       "      <td>40</td>\n",
       "      <td>30</td>\n",
       "      <td>10</td>\n",
       "    </tr>\n",
       "    <tr>\n",
       "      <th>3</th>\n",
       "      <td>Country4</td>\n",
       "      <td>200</td>\n",
       "      <td>300</td>\n",
       "      <td>200</td>\n",
       "      <td>30</td>\n",
       "    </tr>\n",
       "    <tr>\n",
       "      <th>4</th>\n",
       "      <td>Country5</td>\n",
       "      <td>80</td>\n",
       "      <td>120</td>\n",
       "      <td>80</td>\n",
       "      <td>20</td>\n",
       "    </tr>\n",
       "  </tbody>\n",
       "</table>\n",
       "</div>"
      ],
      "text/plain": [
       "    Country  Solar Energy Capacity (GW)  Solar Energy Production (TWh)  \\\n",
       "0  Country1                          50                             70   \n",
       "1  Country2                         120                            180   \n",
       "2  Country3                          30                             40   \n",
       "3  Country4                         200                            300   \n",
       "4  Country5                          80                            120   \n",
       "\n",
       "   Population (millions)  Solar Percentage (%)  \n",
       "0                     60                    15  \n",
       "1                    100                    25  \n",
       "2                     30                    10  \n",
       "3                    200                    30  \n",
       "4                     80                    20  "
      ]
     },
     "execution_count": 7,
     "metadata": {},
     "output_type": "execute_result"
    }
   ],
   "source": [
    "import pandas as pd\n",
    "\n",
    "# Données\n",
    "data = {\n",
    "    'Country': ['Country1', 'Country2', 'Country3', 'Country4', 'Country5'],\n",
    "    'Solar Energy Capacity (GW)': [50, 120, 30, 200, 80],\n",
    "    'Solar Energy Production (TWh)': [70, 180, 40, 300, 120],\n",
    "    'Population (millions)': [60, 100, 30, 200, 80],\n",
    "    'Solar Percentage (%)': [15, 25, 10, 30, 20]\n",
    "}\n",
    "\n",
    "df = pd.DataFrame(data)\n",
    "df"
   ]
  },
  {
   "cell_type": "markdown",
   "id": "7d24e574-8750-4e91-9bd4-6eca3eb5d0d7",
   "metadata": {},
   "source": [
    "#### Exercise 1: Calculate the solar energy production per capita for each country (in MWh). Display the results as a DataFrame"
   ]
  },
  {
   "cell_type": "code",
   "execution_count": 9,
   "id": "d34abc9b-6375-4a85-8f2d-75c8643e87bf",
   "metadata": {},
   "outputs": [
    {
     "name": "stdout",
     "output_type": "stream",
     "text": [
      "Production d'énergie solaire par habitant (MWh):\n",
      "    Country  Solar Energy Production per Capita (MWh)\n",
      "0  Country1                                  1.166667\n",
      "1  Country2                                  1.800000\n",
      "2  Country3                                  1.333333\n",
      "3  Country4                                  1.500000\n",
      "4  Country5                                  1.500000\n"
     ]
    }
   ],
   "source": [
    "df['Solar Energy Production per Capita (MWh)'] = df['Solar Energy Production (TWh)'] / df['Population (millions)']\n",
    "print(\"Production d'énergie solaire par habitant (MWh):\")\n",
    "print(df[['Country', 'Solar Energy Production per Capita (MWh)']])"
   ]
  },
  {
   "cell_type": "markdown",
   "id": "a6c3eeb7-c8fb-4e6d-9c24-4f128dc60988",
   "metadata": {},
   "source": [
    "#### Exercise 2: Identify the country with the highest solar energy capacity per capita. Display the country and the capacity per capita."
   ]
  },
  {
   "cell_type": "code",
   "execution_count": 12,
   "id": "a9aa1031-36c7-4fe5-985f-3cb6f8b760a7",
   "metadata": {},
   "outputs": [
    {
     "name": "stdout",
     "output_type": "stream",
     "text": [
      "Pays avec la plus grande capacité d'énergie solaire par habitant:\n",
      "Country                     Country2\n",
      "Capacity per Capita (GW)         1.2\n",
      "Name: 1, dtype: object\n"
     ]
    }
   ],
   "source": [
    "df['Capacity per Capita (GW)'] = df['Solar Energy Capacity (GW)'] / df['Population (millions)']\n",
    "highest_capacity_country = df.loc[df['Capacity per Capita (GW)'].idxmax()]\n",
    "print(\"Pays avec la plus grande capacité d'énergie solaire par habitant:\")\n",
    "print(highest_capacity_country[['Country', 'Capacity per Capita (GW)']])"
   ]
  },
  {
   "cell_type": "markdown",
   "id": "58e97b38-a341-473f-8c39-0bc168f74650",
   "metadata": {},
   "source": [
    "#### Exercise 3: Calculate the ratio of solar energy production to installed capacity for each country. Display the results."
   ]
  },
  {
   "cell_type": "code",
   "execution_count": 13,
   "id": "d8a36c94-19a2-4960-959a-47410334dd29",
   "metadata": {},
   "outputs": [
    {
     "name": "stdout",
     "output_type": "stream",
     "text": [
      "Part de la production d'énergie solaire par rapport à la capacité installée:\n",
      "    Country  Solar Production Ratio\n",
      "0  Country1                1.400000\n",
      "1  Country2                1.500000\n",
      "2  Country3                1.333333\n",
      "3  Country4                1.500000\n",
      "4  Country5                1.500000\n"
     ]
    }
   ],
   "source": [
    "df['Solar Production Ratio'] = df['Solar Energy Production (TWh)'] / df['Solar Energy Capacity (GW)']\n",
    "print(\"Part de la production d'énergie solaire par rapport à la capacité installée:\")\n",
    "print(df[['Country', 'Solar Production Ratio']])"
   ]
  },
  {
   "cell_type": "markdown",
   "id": "30b0e485-90d1-4c38-9769-ca0e44f6b94d",
   "metadata": {},
   "source": [
    "#### Exercise 4: Calculate the correlation between solar energy capacity and solar energy production. Interpret the result."
   ]
  },
  {
   "cell_type": "code",
   "execution_count": 14,
   "id": "6b3fc6d9-8d37-4e94-b5c4-fba3282d51f5",
   "metadata": {},
   "outputs": [
    {
     "name": "stdout",
     "output_type": "stream",
     "text": [
      "Corrélation entre la capacité d'énergie solaire et la production:\n",
      "0.9998505872756203\n"
     ]
    }
   ],
   "source": [
    "correlation_capacity_production = df['Solar Energy Capacity (GW)'].corr(df['Solar Energy Production (TWh)'])\n",
    "print(\"Corrélation entre la capacité d'énergie solaire et la production:\")\n",
    "print(correlation_capacity_production)"
   ]
  },
  {
   "cell_type": "markdown",
   "id": "f7e7cba6-ac42-4b64-b8e1-28995d8093a7",
   "metadata": {},
   "source": [
    "#### Exercise 5: Suppose each country increases its solar energy capacity by 10% per year for 5 years. Calculate and display the projected capacity for each country after 5 years."
   ]
  },
  {
   "cell_type": "code",
   "execution_count": 15,
   "id": "82965cd8-b510-4c87-846b-f96e87e6f817",
   "metadata": {},
   "outputs": [
    {
     "name": "stdout",
     "output_type": "stream",
     "text": [
      "Capacité projetée après 5 ans (GW):\n",
      "    Country  Projected Capacity (5 years)\n",
      "0  Country1                       80.5255\n",
      "1  Country2                      193.2612\n",
      "2  Country3                       48.3153\n",
      "3  Country4                      322.1020\n",
      "4  Country5                      128.8408\n"
     ]
    }
   ],
   "source": [
    "df['Projected Capacity (5 years)'] = df['Solar Energy Capacity (GW)'] * (1.10 ** 5)\n",
    "print(\"Capacité projetée après 5 ans (GW):\")\n",
    "print(df[['Country', 'Projected Capacity (5 years)']])"
   ]
  },
  {
   "cell_type": "code",
   "execution_count": null,
   "id": "787ea9bc-2256-4540-ab13-39159382b2d5",
   "metadata": {},
   "outputs": [],
   "source": []
  }
 ],
 "metadata": {
  "kernelspec": {
   "display_name": "Python 3 (ipykernel)",
   "language": "python",
   "name": "python3"
  },
  "language_info": {
   "codemirror_mode": {
    "name": "ipython",
    "version": 3
   },
   "file_extension": ".py",
   "mimetype": "text/x-python",
   "name": "python",
   "nbconvert_exporter": "python",
   "pygments_lexer": "ipython3",
   "version": "3.10.7"
  }
 },
 "nbformat": 4,
 "nbformat_minor": 5
}
