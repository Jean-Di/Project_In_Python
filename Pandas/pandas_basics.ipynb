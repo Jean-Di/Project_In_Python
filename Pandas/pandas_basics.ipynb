{
 "cells": [
  {
   "cell_type": "markdown",
   "id": "9c49d1fe-6d4a-4b15-b929-fb183aa07151",
   "metadata": {},
   "source": [
    "# Serie 1 : Basic you should know with pandas\n",
    "##### Ing. Jean Didier KOUAKOU /jeandidikouakou@gmail.com/+225 0555420217"
   ]
  },
  {
   "cell_type": "markdown",
   "id": "1a03227e-308b-4059-9dbb-00ab3116b006",
   "metadata": {},
   "source": [
    "### What is Pandas?"
   ]
  },
  {
   "cell_type": "markdown",
   "id": "061749b9-0439-4056-b70a-2a07fa896549",
   "metadata": {},
   "source": [
    "- A powerful data manipulation and analysis library for Python.\n",
    "- Ideal for handling structured data (like spreadsheets or SQL tables)."
   ]
  },
  {
   "cell_type": "markdown",
   "id": "0b7d426a-964f-48c9-802b-2220342f83a8",
   "metadata": {},
   "source": [
    "### Why Use Pandas ?"
   ]
  },
  {
   "cell_type": "markdown",
   "id": "6259ffd8-7c7a-441c-8a6b-6bcebaf4084c",
   "metadata": {},
   "source": [
    "- Simplifies data analysis tasks.\n",
    "- Provides intuitive data structures (Series and DataFrame).\n",
    "- Integration with other data science libraries (NumPy, Matplotlib)."
   ]
  },
  {
   "cell_type": "markdown",
   "id": "7838e23c-c42d-4ed6-882b-ee24713aba11",
   "metadata": {},
   "source": [
    "### Key Data Structures"
   ]
  },
  {
   "cell_type": "markdown",
   "id": "33c309ea-11f3-4fcc-882a-8e44ea180f40",
   "metadata": {},
   "source": [
    "#### Series :\n",
    "One-dimensional labeled array capable of holding any data type"
   ]
  },
  {
   "cell_type": "code",
   "execution_count": 33,
   "id": "e6579a23-8ba3-4c3b-9b1d-a0af70372c18",
   "metadata": {},
   "outputs": [
    {
     "name": "stdout",
     "output_type": "stream",
     "text": [
      "a    1\n",
      "b    2\n",
      "c    3\n",
      "d    4\n",
      "dtype: int64\n"
     ]
    }
   ],
   "source": [
    "import pandas as pd\n",
    "s = pd.Series([1, 2, 3, 4], index=['a', 'b', 'c', 'd'])\n",
    "print(s)"
   ]
  },
  {
   "cell_type": "markdown",
   "id": "b8044117-02ed-479f-84c5-440b18b64ff1",
   "metadata": {},
   "source": [
    "#### DataFrame :\n",
    "Two-dimensional labeled data structure with columns of potentially different types."
   ]
  },
  {
   "cell_type": "code",
   "execution_count": 34,
   "id": "d0e939f4-a928-419e-8489-ef636a09985e",
   "metadata": {},
   "outputs": [
    {
     "name": "stdout",
     "output_type": "stream",
     "text": [
      "     Name  Age Sex  Grade\n",
      "0    John   23   M     12\n",
      "1  Joseph   22   M     14\n",
      "2   Grace   25   F     17\n",
      "3    Eddy   30   M     15\n"
     ]
    }
   ],
   "source": [
    "data = {\n",
    "    \"Name\" : ['John','Joseph','Grace','Eddy'],\n",
    "    \"Age\" : [23,22,25,30],\n",
    "    \"Sex\" : ['M','M','F','M'],\n",
    "    \"Grade\" : [12,14,17,15]\n",
    "}\n",
    "df=pd.DataFrame(data)\n",
    "print(df)"
   ]
  },
  {
   "cell_type": "markdown",
   "id": "ed5532e7-e6ce-43e1-abac-186055a9dca3",
   "metadata": {},
   "source": [
    "### Basic Operations with DataFrames"
   ]
  },
  {
   "cell_type": "markdown",
   "id": "3a7eeb9a-5a9f-4a0b-a1c6-2abf4d9360e0",
   "metadata": {},
   "source": [
    "#### Loading Data"
   ]
  },
  {
   "cell_type": "code",
   "execution_count": null,
   "id": "db52093b-6cf8-4b49-8005-13dc3592553a",
   "metadata": {},
   "outputs": [],
   "source": [
    "#Reading data from CSV files:\n",
    "df=pd.read_csv('file.csv')\n",
    "\n",
    "#Reading data from Excel files:\n",
    "df=pd.read_excel('file.xlsx')"
   ]
  },
  {
   "cell_type": "markdown",
   "id": "a26380c4-8d9e-4f6a-b380-03b0f5dc7485",
   "metadata": {},
   "source": [
    "#### Viewing Data"
   ]
  },
  {
   "cell_type": "code",
   "execution_count": 37,
   "id": "6c8fd4e9-9305-460a-b574-2c68e7d0dba4",
   "metadata": {},
   "outputs": [
    {
     "name": "stdout",
     "output_type": "stream",
     "text": [
      "     Name  Age Sex  Grade\n",
      "0    John   23   M     12\n",
      "1  Joseph   22   M     14\n",
      "2   Grace   25   F     17\n",
      "3    Eddy   30   M     15\n",
      "     Name  Age Sex  Grade\n",
      "0    John   23   M     12\n",
      "1  Joseph   22   M     14\n",
      "(4, 4)\n"
     ]
    }
   ],
   "source": [
    "#Displaying the first few rows (the first 5):\n",
    "print(df.head())\n",
    "\n",
    "#Displaying the first two rows: row 0 and row 1 (2 rows)\n",
    "print(df.head(2))\n",
    "\n",
    "#Checking the shape (rows, columns):\n",
    "print(df.shape)\n"
   ]
  },
  {
   "cell_type": "markdown",
   "id": "641849be-0711-4d06-aaac-7669fbd4daf5",
   "metadata": {},
   "source": [
    "### Selecting Data"
   ]
  },
  {
   "cell_type": "markdown",
   "id": "96c11bea-1ccb-4805-82e3-28bc2bd3ac43",
   "metadata": {},
   "source": [
    "#### Selecting columns"
   ]
  },
  {
   "cell_type": "code",
   "execution_count": 38,
   "id": "95799d56-818a-4c9f-9c60-40b2442b9aa2",
   "metadata": {},
   "outputs": [
    {
     "name": "stdout",
     "output_type": "stream",
     "text": [
      "['John', 'Joseph', 'Grace', 'Eddy']\n"
     ]
    }
   ],
   "source": [
    "print(data['Name'])"
   ]
  },
  {
   "cell_type": "markdown",
   "id": "e587bbd6-0c6a-4772-914d-15cb032b34aa",
   "metadata": {},
   "source": [
    "#### Selecting rows by index"
   ]
  },
  {
   "cell_type": "code",
   "execution_count": 39,
   "id": "6bc84bf5-58a9-49c5-adfb-5122409d93fd",
   "metadata": {},
   "outputs": [
    {
     "name": "stdout",
     "output_type": "stream",
     "text": [
      "Name     John\n",
      "Age        23\n",
      "Sex         M\n",
      "Grade      12\n",
      "Name: 0, dtype: object\n"
     ]
    }
   ],
   "source": [
    "#Printing the first row\n",
    "print(df.iloc[0]) "
   ]
  },
  {
   "cell_type": "markdown",
   "id": "f2687501-e7ea-4048-a675-fd780e1d5d9b",
   "metadata": {},
   "source": [
    "### Filtering Data"
   ]
  },
  {
   "cell_type": "markdown",
   "id": "a07f26bd-761f-4fe0-8113-d376f20cabe1",
   "metadata": {},
   "source": [
    "#### Selecting data in a column"
   ]
  },
  {
   "cell_type": "code",
   "execution_count": 40,
   "id": "03b11dca-98ab-400b-a3a5-e4b0f5f3ab37",
   "metadata": {},
   "outputs": [
    {
     "name": "stdout",
     "output_type": "stream",
     "text": [
      "   Name  Age Sex  Grade\n",
      "0  John   23   M     12\n"
     ]
    }
   ],
   "source": [
    "print(df[df['Name']=='John'])"
   ]
  },
  {
   "cell_type": "markdown",
   "id": "8324a7ed-a263-4758-b656-196dd60bfeaa",
   "metadata": {},
   "source": [
    "#### Conditional filtering"
   ]
  },
  {
   "cell_type": "code",
   "execution_count": 41,
   "id": "207fce6d-bb32-4376-9300-36bd32ba934e",
   "metadata": {},
   "outputs": [
    {
     "name": "stdout",
     "output_type": "stream",
     "text": [
      "    Name  Age Sex  Grade\n",
      "2  Grace   25   F     17\n",
      "3   Eddy   30   M     15\n"
     ]
    }
   ],
   "source": [
    "print(df[df['Grade']>14])"
   ]
  },
  {
   "cell_type": "markdown",
   "id": "b7dee3b4-af98-40af-9121-0a248af09143",
   "metadata": {},
   "source": [
    "### Data Manipulation"
   ]
  },
  {
   "cell_type": "markdown",
   "id": "947ff6e7-e510-40fa-ab8c-51285b267a4e",
   "metadata": {},
   "source": [
    "#### Adding Columns"
   ]
  },
  {
   "cell_type": "code",
   "execution_count": 42,
   "id": "a5c1edc8-952b-4ffe-a25b-d0974609ffe3",
   "metadata": {},
   "outputs": [
    {
     "name": "stdout",
     "output_type": "stream",
     "text": [
      "     Name  Age Sex  Grade Result\n",
      "0    John   23   M     12   Fail\n",
      "1  Joseph   22   M     14   Fail\n",
      "2   Grace   25   F     17   Pass\n",
      "3    Eddy   30   M     15   Pass\n"
     ]
    }
   ],
   "source": [
    "#Using external data\n",
    "#df['New_column']=['...','...','...','...']\n",
    "df['Result']=['Fail','Fail','Pass','Pass']\n",
    "print(df)"
   ]
  },
  {
   "cell_type": "code",
   "execution_count": 43,
   "id": "22a6f7e7-0ba0-4731-807f-c1ca52b8d5cb",
   "metadata": {},
   "outputs": [
    {
     "name": "stdout",
     "output_type": "stream",
     "text": [
      "     Name  Age Sex  Grade Result  Mark\n",
      "0    John   23   M     12   Fail    60\n",
      "1  Joseph   22   M     14   Fail    70\n",
      "2   Grace   25   F     17   Pass    85\n",
      "3    Eddy   30   M     15   Pass    75\n"
     ]
    }
   ],
   "source": [
    "#Using internal data\n",
    "#df['New_column']=df['...']+ your modification\n",
    "df['Mark']= df['Grade']*5\n",
    "print(df)"
   ]
  },
  {
   "cell_type": "markdown",
   "id": "da92ac1a-61df-4a7f-8554-93e50ecb26c3",
   "metadata": {},
   "source": [
    "#### Removing Columns"
   ]
  },
  {
   "cell_type": "code",
   "execution_count": 44,
   "id": "8725a175-c29f-4a3c-9c88-53be0f8fa81d",
   "metadata": {},
   "outputs": [
    {
     "name": "stdout",
     "output_type": "stream",
     "text": [
      "     Name  Age Sex Result  Mark\n",
      "0    John   23   M   Fail    60\n",
      "1  Joseph   22   M   Fail    70\n",
      "2   Grace   25   F   Pass    85\n",
      "3    Eddy   30   M   Pass    75\n"
     ]
    }
   ],
   "source": [
    "# Dropping a column\n",
    "df.drop('Grade', axis=1, inplace=True)\n",
    "print(df)"
   ]
  },
  {
   "cell_type": "code",
   "execution_count": 45,
   "id": "481ce788-f52f-4e16-b16e-d721faba3f41",
   "metadata": {},
   "outputs": [
    {
     "data": {
      "text/html": [
       "<div>\n",
       "<style scoped>\n",
       "    .dataframe tbody tr th:only-of-type {\n",
       "        vertical-align: middle;\n",
       "    }\n",
       "\n",
       "    .dataframe tbody tr th {\n",
       "        vertical-align: top;\n",
       "    }\n",
       "\n",
       "    .dataframe thead th {\n",
       "        text-align: right;\n",
       "    }\n",
       "</style>\n",
       "<table border=\"1\" class=\"dataframe\">\n",
       "  <thead>\n",
       "    <tr style=\"text-align: right;\">\n",
       "      <th></th>\n",
       "      <th>Name</th>\n",
       "      <th>Age</th>\n",
       "      <th>Sex</th>\n",
       "      <th>Result</th>\n",
       "      <th>Mark</th>\n",
       "    </tr>\n",
       "  </thead>\n",
       "  <tbody>\n",
       "    <tr>\n",
       "      <th>0</th>\n",
       "      <td>John</td>\n",
       "      <td>23</td>\n",
       "      <td>M</td>\n",
       "      <td>Fail</td>\n",
       "      <td>60</td>\n",
       "    </tr>\n",
       "    <tr>\n",
       "      <th>1</th>\n",
       "      <td>Joseph</td>\n",
       "      <td>22</td>\n",
       "      <td>M</td>\n",
       "      <td>Fail</td>\n",
       "      <td>70</td>\n",
       "    </tr>\n",
       "    <tr>\n",
       "      <th>2</th>\n",
       "      <td>Grace</td>\n",
       "      <td>25</td>\n",
       "      <td>F</td>\n",
       "      <td>Pass</td>\n",
       "      <td>85</td>\n",
       "    </tr>\n",
       "    <tr>\n",
       "      <th>3</th>\n",
       "      <td>Eddy</td>\n",
       "      <td>30</td>\n",
       "      <td>M</td>\n",
       "      <td>Pass</td>\n",
       "      <td>75</td>\n",
       "    </tr>\n",
       "  </tbody>\n",
       "</table>\n",
       "</div>"
      ],
      "text/plain": [
       "     Name  Age Sex Result  Mark\n",
       "0    John   23   M   Fail    60\n",
       "1  Joseph   22   M   Fail    70\n",
       "2   Grace   25   F   Pass    85\n",
       "3    Eddy   30   M   Pass    75"
      ]
     },
     "execution_count": 45,
     "metadata": {},
     "output_type": "execute_result"
    }
   ],
   "source": [
    "df"
   ]
  },
  {
   "cell_type": "markdown",
   "id": "9b1f514e-d1bd-4c1c-a857-2a674f05c886",
   "metadata": {},
   "source": [
    "#### Data Aggregation"
   ]
  },
  {
   "cell_type": "code",
   "execution_count": 52,
   "id": "d56111eb-0609-4edc-a89e-5cfa26026138",
   "metadata": {},
   "outputs": [
    {
     "name": "stdout",
     "output_type": "stream",
     "text": [
      "     Name  Sex  Result  Mark\n",
      "Age                         \n",
      "22      1    1       1     1\n",
      "23      1    1       1     1\n",
      "25      1    1       1     1\n",
      "30      1    1       1     1\n"
     ]
    }
   ],
   "source": [
    "# Grouping data\n",
    "group = df.groupby('Age').count()\n",
    "print(group)"
   ]
  },
  {
   "cell_type": "markdown",
   "id": "3b5f1530-3a15-45f6-9551-a4874c5c3bad",
   "metadata": {},
   "source": [
    "### Handling Missing Data"
   ]
  },
  {
   "cell_type": "markdown",
   "id": "3c919bd5-5b30-46ae-b5cf-8e37e38bb875",
   "metadata": {},
   "source": [
    "#### Identifying Missing Values"
   ]
  },
  {
   "cell_type": "code",
   "execution_count": 54,
   "id": "21b23f37-c9df-447f-9c00-89264897f85e",
   "metadata": {},
   "outputs": [
    {
     "name": "stdout",
     "output_type": "stream",
     "text": [
      "Name      0\n",
      "Age       0\n",
      "Sex       0\n",
      "Result    0\n",
      "Mark      0\n",
      "dtype: int64\n"
     ]
    }
   ],
   "source": [
    "#Checking for NaNs:\n",
    "print(df.isnull().sum())"
   ]
  },
  {
   "cell_type": "markdown",
   "id": "da95a3cf-5181-464e-9115-1579827e7d6f",
   "metadata": {},
   "source": [
    "#### Filling Missing Values"
   ]
  },
  {
   "cell_type": "code",
   "execution_count": 55,
   "id": "87386966-a381-4214-a70d-6f308231938c",
   "metadata": {},
   "outputs": [],
   "source": [
    "#Filling with a constant value:\n",
    "\n",
    "df.fillna(0, inplace=True)"
   ]
  },
  {
   "cell_type": "code",
   "execution_count": 56,
   "id": "431a7dc4-ecbf-445e-92a2-484b9cb184c1",
   "metadata": {},
   "outputs": [],
   "source": [
    "#### Dropping missing values:"
   ]
  },
  {
   "cell_type": "code",
   "execution_count": 57,
   "id": "03bfeb90-6ed5-4b2b-bd7d-970051e5faa2",
   "metadata": {},
   "outputs": [],
   "source": [
    "df.dropna(inplace=True)"
   ]
  },
  {
   "cell_type": "markdown",
   "id": "67cbd03e-8349-4f38-88bd-69a0208dddce",
   "metadata": {},
   "source": [
    "### Exporting Data"
   ]
  },
  {
   "cell_type": "code",
   "execution_count": 60,
   "id": "8526b548-2655-4fd0-99db-21a23b46c351",
   "metadata": {},
   "outputs": [],
   "source": [
    "#Writing to a CSV file:\n",
    "df.to_csv('file.csv', index=False)\n",
    "\n",
    "#Writing to a excel file:\n",
    "df.to_excel('file.xlsx', index=False)\n",
    "\n",
    "#Writing to a json file:\n",
    "df.to_json('file.txt', index=False)"
   ]
  },
  {
   "cell_type": "markdown",
   "id": "83f8e6f5-a04a-4bda-b923-f6b0137c9f0e",
   "metadata": {},
   "source": [
    "### End"
   ]
  }
 ],
 "metadata": {
  "kernelspec": {
   "display_name": "Python 3 (ipykernel)",
   "language": "python",
   "name": "python3"
  },
  "language_info": {
   "codemirror_mode": {
    "name": "ipython",
    "version": 3
   },
   "file_extension": ".py",
   "mimetype": "text/x-python",
   "name": "python",
   "nbconvert_exporter": "python",
   "pygments_lexer": "ipython3",
   "version": "3.10.7"
  }
 },
 "nbformat": 4,
 "nbformat_minor": 5
}
