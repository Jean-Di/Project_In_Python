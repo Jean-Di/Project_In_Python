{
 "cells": [
  {
   "cell_type": "markdown",
   "id": "9753a009-818d-4f14-90fd-92b78656502a",
   "metadata": {},
   "source": [
    "# Serie 2 : Panda Library\n",
    "##### Ing. Jean Didier KOUAKOU /jeandidikouakou@gmail.com/+225 0555420217"
   ]
  },
  {
   "cell_type": "markdown",
   "id": "70440dfb-e91f-4288-8eca-737c223b415d",
   "metadata": {},
   "source": [
    "### Before using this library, we have to import it !"
   ]
  },
  {
   "cell_type": "code",
   "execution_count": 40,
   "id": "31735f26-c8d6-4b64-a8e8-75ac7d75cd25",
   "metadata": {},
   "outputs": [],
   "source": [
    "import pandas as pd"
   ]
  },
  {
   "cell_type": "markdown",
   "id": "f5aca43e-e712-499e-bca9-0956359938e2",
   "metadata": {},
   "source": [
    "### Exercise 1: Create a DataFrame with the following data:\n",
    "•\tColumns: \"Name\", \"Age\", \"City\" and \n",
    "•\tRows: (\"Maxwell\", 27, \"Kumasi\"), (\"Zossin\", 24, \"Abomey\") and (\"Nafi\", 23, \"Ouaga\")\n"
   ]
  },
  {
   "cell_type": "code",
   "execution_count": 41,
   "id": "44f2244d-c0ba-4bc1-96dc-0eeecbfe7d80",
   "metadata": {},
   "outputs": [
    {
     "name": "stdout",
     "output_type": "stream",
     "text": [
      "      Name  Age     City\n",
      "0  Maxwell   27  Maxwell\n",
      "1   Zossin   24   Abomey\n",
      "2     Nafi   23    Ouaga\n"
     ]
    }
   ],
   "source": [
    "items = {\n",
    "    \"Name\" : [\"Maxwell\",\"Zossin\", \"Nafi\"],\n",
    "    \"Age\" : [27,24, 23],\n",
    "    \"City\" : [\"Maxwell\",\"Abomey\",\"Ouaga\"]\n",
    "\n",
    "}\n",
    "df = pd.DataFrame(items)\n",
    "print(df)"
   ]
  },
  {
   "cell_type": "markdown",
   "id": "cfc2ac01-c360-490f-a4e6-ec5ad13ece42",
   "metadata": {},
   "source": [
    "### Exercise 2: Using the DataFrame created in Exercise 1, display the first 2 rows"
   ]
  },
  {
   "cell_type": "code",
   "execution_count": 42,
   "id": "01cb9eb4-6a40-4ddf-8be3-39dc0aa78410",
   "metadata": {},
   "outputs": [
    {
     "data": {
      "text/html": [
       "<div>\n",
       "<style scoped>\n",
       "    .dataframe tbody tr th:only-of-type {\n",
       "        vertical-align: middle;\n",
       "    }\n",
       "\n",
       "    .dataframe tbody tr th {\n",
       "        vertical-align: top;\n",
       "    }\n",
       "\n",
       "    .dataframe thead th {\n",
       "        text-align: right;\n",
       "    }\n",
       "</style>\n",
       "<table border=\"1\" class=\"dataframe\">\n",
       "  <thead>\n",
       "    <tr style=\"text-align: right;\">\n",
       "      <th></th>\n",
       "      <th>Name</th>\n",
       "      <th>Age</th>\n",
       "      <th>City</th>\n",
       "    </tr>\n",
       "  </thead>\n",
       "  <tbody>\n",
       "    <tr>\n",
       "      <th>0</th>\n",
       "      <td>Maxwell</td>\n",
       "      <td>27</td>\n",
       "      <td>Maxwell</td>\n",
       "    </tr>\n",
       "    <tr>\n",
       "      <th>1</th>\n",
       "      <td>Zossin</td>\n",
       "      <td>24</td>\n",
       "      <td>Abomey</td>\n",
       "    </tr>\n",
       "  </tbody>\n",
       "</table>\n",
       "</div>"
      ],
      "text/plain": [
       "      Name  Age     City\n",
       "0  Maxwell   27  Maxwell\n",
       "1   Zossin   24   Abomey"
      ]
     },
     "execution_count": 42,
     "metadata": {},
     "output_type": "execute_result"
    }
   ],
   "source": [
    "#df[:2]\n",
    "# We can also use :\n",
    "df.head(2) #The number between parentheses show the N first row you want to see."
   ]
  },
  {
   "cell_type": "markdown",
   "id": "94b4eca0-2b66-4faf-b74c-eeb7f7dca6c4",
   "metadata": {},
   "source": [
    "### Exercise 3: Calculate and print the average age of the people in the DataFrame"
   ]
  },
  {
   "cell_type": "code",
   "execution_count": 43,
   "id": "1b42c0e2-6813-45ff-bfc4-1635dae2e653",
   "metadata": {},
   "outputs": [
    {
     "name": "stdout",
     "output_type": "stream",
     "text": [
      "24.666666666666668\n"
     ]
    }
   ],
   "source": [
    "age = df['Age']\n",
    "average = age.mean()\n",
    "print(average)"
   ]
  },
  {
   "cell_type": "markdown",
   "id": "030bbe61-2111-42e9-a136-9d675cef7d94",
   "metadata": {},
   "source": [
    "### Exercise 4: Filter the DataFrame to show only the rows where the city is \"Ouaga\""
   ]
  },
  {
   "cell_type": "code",
   "execution_count": 44,
   "id": "1c9706cb-5223-43ce-9eec-ae9a24ca591b",
   "metadata": {},
   "outputs": [
    {
     "data": {
      "text/html": [
       "<div>\n",
       "<style scoped>\n",
       "    .dataframe tbody tr th:only-of-type {\n",
       "        vertical-align: middle;\n",
       "    }\n",
       "\n",
       "    .dataframe tbody tr th {\n",
       "        vertical-align: top;\n",
       "    }\n",
       "\n",
       "    .dataframe thead th {\n",
       "        text-align: right;\n",
       "    }\n",
       "</style>\n",
       "<table border=\"1\" class=\"dataframe\">\n",
       "  <thead>\n",
       "    <tr style=\"text-align: right;\">\n",
       "      <th></th>\n",
       "      <th>Name</th>\n",
       "      <th>Age</th>\n",
       "      <th>City</th>\n",
       "    </tr>\n",
       "  </thead>\n",
       "  <tbody>\n",
       "    <tr>\n",
       "      <th>2</th>\n",
       "      <td>Nafi</td>\n",
       "      <td>23</td>\n",
       "      <td>Ouaga</td>\n",
       "    </tr>\n",
       "  </tbody>\n",
       "</table>\n",
       "</div>"
      ],
      "text/plain": [
       "   Name  Age   City\n",
       "2  Nafi   23  Ouaga"
      ]
     },
     "execution_count": 44,
     "metadata": {},
     "output_type": "execute_result"
    }
   ],
   "source": [
    "df[df['City']=='Ouaga']"
   ]
  },
  {
   "cell_type": "markdown",
   "id": "f076eed4-f770-4848-bd6b-7bab3b907df8",
   "metadata": {},
   "source": [
    "### Exercise 5: Add a new column \"Salary\" to the DataFrame with arbitrary values, and display the updated DataFrame"
   ]
  },
  {
   "cell_type": "code",
   "execution_count": 45,
   "id": "8ceddfe1-f519-4e66-8cf8-f6af7feb3b73",
   "metadata": {},
   "outputs": [
    {
     "name": "stdout",
     "output_type": "stream",
     "text": [
      "      Name  Age     City  Salary\n",
      "0  Maxwell   27  Maxwell  229500\n",
      "1   Zossin   24   Abomey  229580\n",
      "2     Nafi   23    Ouaga  229585\n"
     ]
    }
   ],
   "source": [
    "df['Salary']=[229500, 229580, 229585]\n",
    "print(df)"
   ]
  },
  {
   "cell_type": "markdown",
   "id": "9903efb7-4e34-4352-a7ad-5d3c8aad3b5f",
   "metadata": {},
   "source": [
    "### Exercise 6: Rename the column \"City\" to \"Location\" in the DataFrame and display the updated DataFrame"
   ]
  },
  {
   "cell_type": "code",
   "execution_count": 51,
   "id": "6c01b5fd-665d-4c0d-9a78-b6edcfec4c78",
   "metadata": {},
   "outputs": [
    {
     "name": "stdout",
     "output_type": "stream",
     "text": [
      "      Name  Age Location  Salary\n",
      "0  Maxwell   27  Maxwell  229500\n",
      "1   Zossin   24   Abomey  229580\n",
      "2     Nafi   23    Ouaga  229585\n"
     ]
    }
   ],
   "source": [
    "df.rename(columns= {'City':'Location'}, inplace=True)\n",
    "print(df)"
   ]
  },
  {
   "cell_type": "markdown",
   "id": "0cc52b0e-5629-4dc9-ac59-989d746bb78d",
   "metadata": {},
   "source": [
    "### Exercise 7: Group the DataFrame by \"City\" and count the number of occurrences for each city"
   ]
  },
  {
   "cell_type": "code",
   "execution_count": 59,
   "id": "2a6b3235-d5f2-4c9c-b5da-71032e281a82",
   "metadata": {},
   "outputs": [
    {
     "data": {
      "text/plain": [
       "Location\n",
       "Abomey     1\n",
       "Maxwell    1\n",
       "Ouaga      1\n",
       "dtype: int64"
      ]
     },
     "execution_count": 59,
     "metadata": {},
     "output_type": "execute_result"
    }
   ],
   "source": [
    "df.groupby(\"Location\").size()"
   ]
  },
  {
   "cell_type": "markdown",
   "id": "dff4ce4d-c88e-4563-92e8-0a1a6584bf15",
   "metadata": {},
   "source": [
    "### Exercise 8: Sort the DataFrame by the \"Age\" column in descending order and display the result"
   ]
  },
  {
   "cell_type": "code",
   "execution_count": 62,
   "id": "4aca977b-6871-4c13-9c9a-b65ed66dd5e2",
   "metadata": {},
   "outputs": [
    {
     "data": {
      "text/html": [
       "<div>\n",
       "<style scoped>\n",
       "    .dataframe tbody tr th:only-of-type {\n",
       "        vertical-align: middle;\n",
       "    }\n",
       "\n",
       "    .dataframe tbody tr th {\n",
       "        vertical-align: top;\n",
       "    }\n",
       "\n",
       "    .dataframe thead th {\n",
       "        text-align: right;\n",
       "    }\n",
       "</style>\n",
       "<table border=\"1\" class=\"dataframe\">\n",
       "  <thead>\n",
       "    <tr style=\"text-align: right;\">\n",
       "      <th></th>\n",
       "      <th>Name</th>\n",
       "      <th>Age</th>\n",
       "      <th>Location</th>\n",
       "      <th>Salary</th>\n",
       "    </tr>\n",
       "  </thead>\n",
       "  <tbody>\n",
       "    <tr>\n",
       "      <th>0</th>\n",
       "      <td>Maxwell</td>\n",
       "      <td>27</td>\n",
       "      <td>Maxwell</td>\n",
       "      <td>229500</td>\n",
       "    </tr>\n",
       "    <tr>\n",
       "      <th>1</th>\n",
       "      <td>Zossin</td>\n",
       "      <td>24</td>\n",
       "      <td>Abomey</td>\n",
       "      <td>229580</td>\n",
       "    </tr>\n",
       "    <tr>\n",
       "      <th>2</th>\n",
       "      <td>Nafi</td>\n",
       "      <td>23</td>\n",
       "      <td>Ouaga</td>\n",
       "      <td>229585</td>\n",
       "    </tr>\n",
       "  </tbody>\n",
       "</table>\n",
       "</div>"
      ],
      "text/plain": [
       "      Name  Age Location  Salary\n",
       "0  Maxwell   27  Maxwell  229500\n",
       "1   Zossin   24   Abomey  229580\n",
       "2     Nafi   23    Ouaga  229585"
      ]
     },
     "execution_count": 62,
     "metadata": {},
     "output_type": "execute_result"
    }
   ],
   "source": [
    "df.sort_values('Age', ascending=False)"
   ]
  },
  {
   "cell_type": "markdown",
   "id": "3d73e44e-0a70-4c20-88f3-392107c4bfad",
   "metadata": {},
   "source": [
    "### Exercise 9: Save the DataFrame to a CSV file named \"wascal_people.csv\""
   ]
  },
  {
   "cell_type": "code",
   "execution_count": 66,
   "id": "1cd29f49-3e7c-4f9e-9576-1bf664029e6a",
   "metadata": {},
   "outputs": [],
   "source": [
    "df.to_csv('wascal_people.csv', index=False)"
   ]
  },
  {
   "cell_type": "markdown",
   "id": "f83b3840-6551-4e0b-8296-f194c89b3f2f",
   "metadata": {},
   "source": [
    "### Exercise 10: Load the DataFrame from the \"wascal_people.csv\" file you created in Exercise 9 and display its contents."
   ]
  },
  {
   "cell_type": "code",
   "execution_count": 67,
   "id": "a52888ff-eb51-488e-8c70-da2c44562d1b",
   "metadata": {},
   "outputs": [
    {
     "data": {
      "text/html": [
       "<div>\n",
       "<style scoped>\n",
       "    .dataframe tbody tr th:only-of-type {\n",
       "        vertical-align: middle;\n",
       "    }\n",
       "\n",
       "    .dataframe tbody tr th {\n",
       "        vertical-align: top;\n",
       "    }\n",
       "\n",
       "    .dataframe thead th {\n",
       "        text-align: right;\n",
       "    }\n",
       "</style>\n",
       "<table border=\"1\" class=\"dataframe\">\n",
       "  <thead>\n",
       "    <tr style=\"text-align: right;\">\n",
       "      <th></th>\n",
       "      <th>Name</th>\n",
       "      <th>Age</th>\n",
       "      <th>Location</th>\n",
       "      <th>Salary</th>\n",
       "    </tr>\n",
       "  </thead>\n",
       "  <tbody>\n",
       "    <tr>\n",
       "      <th>0</th>\n",
       "      <td>Maxwell</td>\n",
       "      <td>27</td>\n",
       "      <td>Maxwell</td>\n",
       "      <td>229500</td>\n",
       "    </tr>\n",
       "    <tr>\n",
       "      <th>1</th>\n",
       "      <td>Zossin</td>\n",
       "      <td>24</td>\n",
       "      <td>Abomey</td>\n",
       "      <td>229580</td>\n",
       "    </tr>\n",
       "    <tr>\n",
       "      <th>2</th>\n",
       "      <td>Nafi</td>\n",
       "      <td>23</td>\n",
       "      <td>Ouaga</td>\n",
       "      <td>229585</td>\n",
       "    </tr>\n",
       "  </tbody>\n",
       "</table>\n",
       "</div>"
      ],
      "text/plain": [
       "      Name  Age Location  Salary\n",
       "0  Maxwell   27  Maxwell  229500\n",
       "1   Zossin   24   Abomey  229580\n",
       "2     Nafi   23    Ouaga  229585"
      ]
     },
     "execution_count": 67,
     "metadata": {},
     "output_type": "execute_result"
    }
   ],
   "source": [
    "data=pd.read_csv('wascal_people.csv')\n",
    "data"
   ]
  },
  {
   "cell_type": "markdown",
   "id": "a1d94263-7360-4303-a3fd-a3990e2fd316",
   "metadata": {},
   "source": [
    "# Problem Serie 2"
   ]
  },
  {
   "cell_type": "markdown",
   "id": "2f195a63-427c-40a6-be0c-fd2dc10b513f",
   "metadata": {},
   "source": [
    "### Set up of data and libraries"
   ]
  },
  {
   "cell_type": "code",
   "execution_count": 93,
   "id": "6689b75e-cfdc-4409-8497-7c131f24e624",
   "metadata": {},
   "outputs": [
    {
     "data": {
      "text/html": [
       "<div>\n",
       "<style scoped>\n",
       "    .dataframe tbody tr th:only-of-type {\n",
       "        vertical-align: middle;\n",
       "    }\n",
       "\n",
       "    .dataframe tbody tr th {\n",
       "        vertical-align: top;\n",
       "    }\n",
       "\n",
       "    .dataframe thead th {\n",
       "        text-align: right;\n",
       "    }\n",
       "</style>\n",
       "<table border=\"1\" class=\"dataframe\">\n",
       "  <thead>\n",
       "    <tr style=\"text-align: right;\">\n",
       "      <th></th>\n",
       "      <th>Country</th>\n",
       "      <th>Energy Consumption (TWh)</th>\n",
       "      <th>Renewable Energy (%)</th>\n",
       "      <th>CO2 Emissions (Mt)</th>\n",
       "      <th>Population (millions)</th>\n",
       "    </tr>\n",
       "  </thead>\n",
       "  <tbody>\n",
       "    <tr>\n",
       "      <th>0</th>\n",
       "      <td>CountryA</td>\n",
       "      <td>450</td>\n",
       "      <td>30</td>\n",
       "      <td>50</td>\n",
       "      <td>67</td>\n",
       "    </tr>\n",
       "    <tr>\n",
       "      <th>1</th>\n",
       "      <td>CountryB</td>\n",
       "      <td>4000</td>\n",
       "      <td>20</td>\n",
       "      <td>500</td>\n",
       "      <td>331</td>\n",
       "    </tr>\n",
       "  </tbody>\n",
       "</table>\n",
       "</div>"
      ],
      "text/plain": [
       "    Country  Energy Consumption (TWh)  Renewable Energy (%)  \\\n",
       "0  CountryA                       450                    30   \n",
       "1  CountryB                      4000                    20   \n",
       "\n",
       "   CO2 Emissions (Mt)  Population (millions)  \n",
       "0                  50                     67  \n",
       "1                 500                    331  "
      ]
     },
     "execution_count": 93,
     "metadata": {},
     "output_type": "execute_result"
    }
   ],
   "source": [
    "import pandas as pd\n",
    "data=pd.read_excel('data_serie2.xlsx')\n",
    "data.head(2)"
   ]
  },
  {
   "cell_type": "markdown",
   "id": "600b3768-f56b-466e-8266-1cec40d93997",
   "metadata": {},
   "source": [
    "### Exercise 1: Calculate the energy consumption per capita for each country. Display the results as a DataFrame"
   ]
  },
  {
   "cell_type": "code",
   "execution_count": 94,
   "id": "ff9b0276-27e3-42b0-87a6-678e46d18767",
   "metadata": {},
   "outputs": [
    {
     "name": "stdout",
     "output_type": "stream",
     "text": [
      "    Country  Energy Consumption (TWh)  Energy Consumption per Capita (MWh)\n",
      "0  CountryA                       450                             6.716418\n",
      "1  CountryB                      4000                            12.084592\n",
      "2  CountryC                       600                             7.228916\n",
      "3  CountryD                      6500                             4.517026\n",
      "4  CountryE                      1200                             0.869565\n"
     ]
    }
   ],
   "source": [
    "Energy_capita = (data['Energy Consumption (TWh)'])/(data['Population (millions)'])\n",
    "data['Energy Consumption per Capita (MWh)']= Energy_capita\n",
    "print(data[['Country', 'Energy Consumption (TWh)', 'Energy Consumption per Capita (MWh)']])"
   ]
  },
  {
   "cell_type": "markdown",
   "id": "1a3f5468-e2ba-4cbe-8217-185d5e5432d0",
   "metadata": {},
   "source": [
    "### Exercise 2: Identify the country with the highest CO2 emissions per capita. Display the country and the amount of emissions per capita."
   ]
  },
  {
   "cell_type": "code",
   "execution_count": 109,
   "id": "172aba05-c50c-45b5-aff3-303080578651",
   "metadata": {},
   "outputs": [
    {
     "name": "stdout",
     "output_type": "stream",
     "text": [
      "    Country  C02 Emission per Capita (t)\n",
      "4  CountryE                     0.144928\n",
      "3  CountryD                     0.625434\n",
      "0  CountryA                     0.746269\n",
      "2  CountryC                     0.963855\n",
      "1  CountryB                     1.510574\n"
     ]
    }
   ],
   "source": [
    "C02_capita = (data['CO2 Emissions (Mt)'])/(data['Population (millions)'])\n",
    "data['C02 Emission per Capita (t)']= C02_capita\n",
    "data_2=data.sort_values('C02 Emission per Capita (t)')\n",
    "print(data_2[['Country', 'C02 Emission per Capita (t)']])"
   ]
  },
  {
   "cell_type": "markdown",
   "id": "0e150fea-58e9-4740-a464-6a0d95adef4b",
   "metadata": {},
   "source": [
    "### Exercise 3: Calculate the total renewable energy consumption for each country and display the results."
   ]
  },
  {
   "cell_type": "code",
   "execution_count": 111,
   "id": "b4e3466b-c2d0-4703-aad3-c6990e364563",
   "metadata": {},
   "outputs": [
    {
     "name": "stdout",
     "output_type": "stream",
     "text": [
      "    Country  RE Consumption (TWh)\n",
      "0  CountryA                 135.0\n",
      "1  CountryB                 800.0\n",
      "2  CountryC                 240.0\n",
      "3  CountryD                1625.0\n",
      "4  CountryE                 180.0\n"
     ]
    }
   ],
   "source": [
    "Total_Re_Cmpt = (data['Energy Consumption (TWh)'])*((data['Renewable Energy (%)'])/100)\n",
    "data['RE Consumption (TWh)']= Total_Re_Cmpt\n",
    "print(data[['Country', 'RE Consumption (TWh)']])"
   ]
  },
  {
   "cell_type": "code",
   "execution_count": null,
   "id": "5b43900c-11fb-4fa2-b40d-fd5770eaee8a",
   "metadata": {},
   "outputs": [],
   "source": []
  },
  {
   "cell_type": "markdown",
   "id": "dce497ae-699f-45d6-8354-fa697d938ccb",
   "metadata": {},
   "source": [
    "### Exercise 4: Calculate the correlation between total energy consumption and CO2 emissions. Interpret the result."
   ]
  },
  {
   "cell_type": "code",
   "execution_count": 114,
   "id": "08932095-4e05-45f6-a168-b4bbf9b705b6",
   "metadata": {},
   "outputs": [
    {
     "name": "stdout",
     "output_type": "stream",
     "text": [
      "The correlation between them is :  0.9964165158940975\n",
      "The higher energy consumption, especially from fossil fuels, typically leads to higher emissions.\n"
     ]
    }
   ],
   "source": [
    "correlation = data['Energy Consumption (TWh)'].corr(data['CO2 Emissions (Mt)'])\n",
    "print('The correlation between them is : ', correlation)\n",
    "if correlation > 0 :\n",
    "    print('The higher energy consumption, especially from fossil fuels, typically leads to higher emissions.')\n",
    "elif correlation <0:\n",
    "    print('The higher energy consumption, leads to lower emissions.')\n",
    "else :\n",
    "    print('No correlation between both variable')"
   ]
  },
  {
   "cell_type": "markdown",
   "id": "5ab8f69a-44d8-4a89-9ff9-42362ad1f9d4",
   "metadata": {},
   "source": [
    "### Exercise 5: Suppose each country increases its energy consumption by 5% per year for 5 years. Calculate and display the projected energy consumption for each country after 5 years."
   ]
  },
  {
   "cell_type": "code",
   "execution_count": 122,
   "id": "9f3a33c6-eabd-4b10-a647-cf47e3d25d71",
   "metadata": {},
   "outputs": [
    {
     "name": "stdout",
     "output_type": "stream",
     "text": [
      "    Country  Energy Consumption (TWh)  Projected Energy Consumption (TWh)\n",
      "0  CountryA                       450                          574.326703\n",
      "1  CountryB                      4000                         5105.126250\n",
      "2  CountryC                       600                          765.768938\n",
      "3  CountryD                      6500                         8295.830156\n",
      "4  CountryE                      1200                         1531.537875\n"
     ]
    }
   ],
   "source": [
    "projected_consmpt=data['Energy Consumption (TWh)']*(1+0.05)**5\n",
    "data['Projected Energy Consumption (TWh)']=projected_consmpt\n",
    "print(data[['Country', 'Energy Consumption (TWh)','Projected Energy Consumption (TWh)']])"
   ]
  },
  {
   "cell_type": "markdown",
   "id": "fd3a21c4-ce46-4c8d-87d5-a1b2152636ab",
   "metadata": {},
   "source": [
    "### The End!"
   ]
  }
 ],
 "metadata": {
  "kernelspec": {
   "display_name": "Python 3 (ipykernel)",
   "language": "python",
   "name": "python3"
  },
  "language_info": {
   "codemirror_mode": {
    "name": "ipython",
    "version": 3
   },
   "file_extension": ".py",
   "mimetype": "text/x-python",
   "name": "python",
   "nbconvert_exporter": "python",
   "pygments_lexer": "ipython3",
   "version": "3.10.7"
  }
 },
 "nbformat": 4,
 "nbformat_minor": 5
}
